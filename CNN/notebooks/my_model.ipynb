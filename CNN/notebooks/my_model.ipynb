{
 "cells": [
  {
   "cell_type": "code",
   "execution_count": 2,
   "metadata": {},
   "outputs": [],
   "source": [
    "import random\n",
    "import matplotlib.pyplot as plt\n",
    "import matplotlib.image as mpimg\n",
    "import sys, os\n",
    "import json\n",
    "import torch.nn as nn  \n",
    "import numpy as np\n",
    "import torch.nn.functional as F\n",
    "import torch.optim as optim\n",
    "import prettytable\n",
    "import time\n",
    "sys.setrecursionlimit(15000)\n",
    "from thop.profile import profile\n",
    "from PIL import Image\n",
    "import torch\n",
    "from torch.optim import lr_scheduler\n",
    "from torch.autograd import Variable\n",
    "from torch.utils.data import DataLoader\n",
    "from torchvision import datasets, transforms\n",
    "from torchsummary import summary\n",
    "from tqdm import tqdm\n",
    "import seaborn as sns\n",
    "from pathlib import Path\n",
    "\n",
    "# Add FixCaps path to sys.path\n",
    "sys.path.append(str(os.path.abspath(os.path.join(os.getcwd(), \"..\",)) + '/FixCaps' +'/Module'))\n",
    "\n",
    "root_dir = os.path.abspath(os.path.join(os.getcwd(), \"..\", \"data\"))\n",
    "fixcaps_path = os.path.join(root_dir, \"FixCaps\")\n",
    "sys.path.append(fixcaps_path)\n",
    "\n",
    "from HAM10000.model import FixCapsNet\n",
    "from HAM10000.utils import ImageShow, draw_size_acc, one_hot\n",
    "from HAM10000.utils import confusion_matrix, metrics_scores, pff"
   ]
  },
  {
   "cell_type": "code",
   "execution_count": 3,
   "metadata": {},
   "outputs": [
    {
     "name": "stdout",
     "output_type": "stream",
     "text": [
      "CUDA Available:  False\n",
      "Using CPU instead\n"
     ]
    }
   ],
   "source": [
    "# Settings.\n",
    "if torch.cuda.is_available():\n",
    "    device = torch.device('cuda')  # Use CUDA\n",
    "    print(\"CUDA Available: \", True)\n",
    "    print(\"CUDA Device Count: \", torch.cuda.device_count())\n",
    "    print(\"CUDA Device Name: \", torch.cuda.get_device_name(0))\n",
    "else:\n",
    "    device = torch.device('cpu')  # Fall back to CPU\n",
    "    print(\"CUDA Available: \", False)\n",
    "    print(\"Using CPU instead\")\n",
    "\n",
    "img_title = \"HAM10000\"\n",
    "best_acc = 0.\n",
    "eval_acc = 0.\n",
    "best_train = 0.\n",
    "dict_batch = {}\n",
    "dict_imgSize = {}\n",
    "\n",
    "#defined \n",
    "try:\n",
    "    print(len(train_acc_list))\n",
    "except NameError:\n",
    "    train_loss_list = []\n",
    "    train_acc_list = []\n",
    "    test_loss_list = []\n",
    "    test_acc_list = []\n",
    "    test_auc_list = []\n",
    "    val_loss_list = []\n",
    "    val_acc_list = []\n",
    "#activate ImageShow\n",
    "show = ImageShow(train_loss_list = train_loss_list,\n",
    "                 train_acc_list = train_acc_list,\n",
    "                test_loss_list = test_loss_list,\n",
    "                test_acc_list = test_acc_list,\n",
    "                test_auc_list = test_auc_list,\n",
    "                val_loss_list = val_loss_list,\n",
    "                val_acc_list = val_acc_list,\n",
    "                )"
   ]
  },
  {
   "cell_type": "code",
   "execution_count": 4,
   "metadata": {},
   "outputs": [
    {
     "name": "stdout",
     "output_type": "stream",
     "text": [
      "d:\\Code\\NCKH2025\\CNN\\data\\train\n",
      "d:\\Code\\NCKH2025\\CNN\\data\\val\n",
      "d:\\Code\\NCKH2025\\CNN\\data\\test\n"
     ]
    }
   ],
   "source": [
    "train_dir = os.path.join(root_dir, \"train\")\n",
    "val_dir = os.path.join(root_dir, \"val\")\n",
    "test_dir = os.path.join(root_dir, \"test\")\n",
    "print(train_dir)\n",
    "print(val_dir)\n",
    "print(test_dir)"
   ]
  },
  {
   "cell_type": "code",
   "execution_count": 5,
   "metadata": {},
   "outputs": [],
   "source": [
    "def get_data(trans_test='312'):\n",
    "    global test_dataset,train_loader,val_loader,test_loader\n",
    "    global train_num,val_num,test_num,n_classes,cla_dict\n",
    "    data_transform = {\n",
    "        \"train\": transforms.Compose([transforms.RandomResizedCrop((299, 299)),\n",
    "                                     transforms.RandomVerticalFlip(),\n",
    "                                     transforms.ToTensor(),\n",
    "                                     transforms.Normalize((0.5, 0.5, 0.5), (0.5, 0.5, 0.5))]),\n",
    "        \"val\": transforms.Compose([transforms.Resize((302,302)),\n",
    "                                   transforms.CenterCrop((299, 299)),\n",
    "                                   transforms.ToTensor(),\n",
    "                                   transforms.Normalize((0.5, 0.5, 0.5), (0.5, 0.5, 0.5))\n",
    "                                  ]),\n",
    "        \"test\": transforms.Compose([transforms.Resize((trans_test,trans_test)),\n",
    "                                   transforms.CenterCrop((299, 299)),\n",
    "                                   transforms.ToTensor(),\n",
    "                                   transforms.Normalize((0.5, 0.5, 0.5), (0.5, 0.5, 0.5))\n",
    "                                  ])\n",
    "        }\n",
    "\n",
    "    data_root = os.path.abspath(os.path.join(os.getcwd(),\"..\"))  # get data root path\n",
    "    image_path = os.path.join(data_root, \"data\")#\n",
    "    assert os.path.exists(image_path), \"{} path does not exist.\".format(image_path)\n",
    "\n",
    "    train_dataset = datasets.ImageFolder(root=os.path.join(image_path,train_doc),#\n",
    "                                         transform=data_transform[\"train\"])\n",
    "    val_dataset = datasets.ImageFolder(root=os.path.join(image_path,val_doc),\n",
    "                                            transform=data_transform[\"val\"])\n",
    "    test_dataset = datasets.ImageFolder(root=os.path.join(image_path,test_doc),\n",
    "                                            transform=data_transform[\"test\"])\n",
    "\n",
    "    train_num = len(train_dataset)\n",
    "    val_num = len(val_dataset)\n",
    "    test_num = len(test_dataset)\n",
    "    \n",
    "    data_list = train_dataset.class_to_idx\n",
    "    cla_dict = dict((val, key) for key, val in data_list.items())\n",
    "    n_classes  = len(data_list)\n",
    "    print(f'Using {n_classes } classes.')\n",
    "    # write dict into json file\n",
    "    json_str = json.dumps(cla_dict, indent=4)\n",
    "    with open(f'{img_title}.json', 'w') as json_file:#class_indices\n",
    "        json_file.write(json_str)\n",
    "        \n",
    "    pin_memory = True\n",
    "    train_loader = DataLoader(train_dataset,batch_size=BatchSize,\n",
    "                                               pin_memory=pin_memory,\n",
    "                                               shuffle=True,num_workers=nw)\n",
    "    val_loader = DataLoader(val_dataset,batch_size=V_size,\n",
    "                                               pin_memory=pin_memory,\n",
    "                                               shuffle=False,num_workers=nw)\n",
    "    test_loader = DataLoader(test_dataset,batch_size=T_size,\n",
    "                                              pin_memory=pin_memory,\n",
    "                                              shuffle=False,num_workers=nw)\n",
    "\n",
    "    print(\"using {} images for training, {} images for validation, {} images for testing.\".format(train_num,\n",
    "                                                                                                  val_num,\n",
    "                                                                                                  test_num))"
   ]
  },
  {
   "cell_type": "code",
   "execution_count": 6,
   "metadata": {},
   "outputs": [
    {
     "name": "stdout",
     "output_type": "stream",
     "text": [
      "Using 6 dataloader workers every process.\n",
      "Using 7 classes.\n",
      "using 8010 images for training, 2005 images for validation, 1511 images for testing.\n"
     ]
    }
   ],
   "source": [
    "BatchSize = 168\n",
    "V_size = 40 \n",
    "T_size = 32 \n",
    "train_doc = \"train\"\n",
    "val_doc = \"val\"\n",
    "test_doc = \"test\"\n",
    "\n",
    "nw = min([os.cpu_count(), BatchSize if BatchSize > 1 else 0, 6]) \n",
    "print(f'Using {nw} dataloader workers every process.')\n",
    "get_data()"
   ]
  },
  {
   "cell_type": "code",
   "execution_count": 7,
   "metadata": {},
   "outputs": [
    {
     "name": "stdout",
     "output_type": "stream",
     "text": [
      "Train: 8010 files.\n",
      "Val: 2005 files.\n",
      "Test: 1511 files.\n"
     ]
    }
   ],
   "source": [
    "import os\n",
    "\n",
    "def count_files_in_subfolders(root_dir):\n",
    "    counts = {}\n",
    "    for subset in ['train', 'val', 'test']:\n",
    "        subset_path = os.path.join(root_dir, subset)\n",
    "        file_count = 0\n",
    "        if os.path.exists(subset_path):\n",
    "            # Count files in the directory and its subdirectories\n",
    "            for dirpath, dirnames, filenames in os.walk(subset_path):\n",
    "                file_count += len(filenames)\n",
    "            counts[subset] = file_count\n",
    "    return counts\n",
    "\n",
    "file_counts = count_files_in_subfolders(root_dir)\n",
    "\n",
    "# Print the results\n",
    "for subset, count in file_counts.items():\n",
    "    print(f\"{subset.capitalize()}: {count} files.\")\n"
   ]
  },
  {
   "cell_type": "code",
   "execution_count": 8,
   "metadata": {},
   "outputs": [],
   "source": [
    "def count_files_in_folder(root_dir, folder_name):\n",
    "    train_path = os.path.join(root_dir, folder_name)\n",
    "    file_counts = {}\n",
    "    \n",
    "    if os.path.exists(train_path):\n",
    "        for dirpath, dirnames, filenames in os.walk(train_path):\n",
    "            for dirname in dirnames:\n",
    "                subfolder_path = os.path.join(dirpath, dirname)\n",
    "                # Count only files in the subfolder\n",
    "                file_count = len([f for f in os.listdir(subfolder_path) if os.path.isfile(os.path.join(subfolder_path, f))])\n",
    "                file_counts[dirname] = file_count\n",
    "                \n",
    "    return file_counts\n",
    "\n",
    "def plot_distribution(folder_name):\n",
    "    train_file_counts = count_files_in_folder(root_dir, folder_name)\n",
    "\n",
    "    # Prepare data for the bar chart\n",
    "    labels = list(train_file_counts.keys())\n",
    "    values = list(train_file_counts.values())\n",
    "\n",
    "    # Create a bar chart\n",
    "    plt.figure(figsize=(10, 6))  # Set figure size\n",
    "    bars = plt.bar(labels, values, color='skyblue', edgecolor='black')\n",
    "\n",
    "    # Add data labels on top of the bars\n",
    "    for bar in bars:\n",
    "        yval = bar.get_height()\n",
    "        plt.text(bar.get_x() + bar.get_width()/2, yval, int(yval), ha='center', va='bottom', fontsize=10)\n",
    "\n",
    "    # Add grid lines\n",
    "    plt.grid(axis='y', linestyle='--', alpha=0.7)\n",
    "\n",
    "    # Set labels and title\n",
    "    plt.xlabel('Classes', fontsize=12)\n",
    "    plt.ylabel('Number of Datas', fontsize=12)\n",
    "    plt.title(f\"{folder_name} distribution\", fontsize=14)\n",
    "    plt.xticks(rotation=45, fontsize=10)\n",
    "    plt.tight_layout()\n",
    "\n",
    "    # Show the plot\n",
    "    plt.show()\n"
   ]
  },
  {
   "cell_type": "code",
   "execution_count": 9,
   "metadata": {},
   "outputs": [
    {
     "data": {
      "image/png": "[encoded data removed]",
      "text/plain": [
       "<Figure size 1000x600 with 1 Axes>"
      ]
     },
     "metadata": {},
     "output_type": "display_data"
    }
   ],
   "source": [
    "plot_distribution('train')"
   ]
  },
  {
   "cell_type": "code",
   "execution_count": 10,
   "metadata": {},
   "outputs": [
    {
     "data": {
      "image/png": "[encoded data removed]",
      "text/plain": [
       "<Figure size 1000x600 with 1 Axes>"
      ]
     },
     "metadata": {},
     "output_type": "display_data"
    }
   ],
   "source": [
    "plot_distribution('val')"
   ]
  },
  {
   "cell_type": "code",
   "execution_count": 11,
   "metadata": {},
   "outputs": [
    {
     "data": {
      "image/png": "[encoded data removed]",
      "text/plain": [
       "<Figure size 1000x600 with 1 Axes>"
      ]
     },
     "metadata": {},
     "output_type": "display_data"
    }
   ],
   "source": [
    "plot_distribution('test')"
   ]
  },
  {
   "cell_type": "code",
   "execution_count": 12,
   "metadata": {},
   "outputs": [
    {
     "data": {
      "image/png": "[encoded data removed]",
      "text/plain": [
       "<Figure size 1500x500 with 7 Axes>"
      ]
     },
     "metadata": {},
     "output_type": "display_data"
    }
   ],
   "source": [
    "def load_one_image_per_class(root_dir):\n",
    "    train_path = os.path.join(root_dir, 'train')\n",
    "    images_per_class = {}\n",
    "    \n",
    "    if os.path.exists(train_path):\n",
    "        for dirpath, dirnames, filenames in os.walk(train_path):\n",
    "            for dirname in dirnames:\n",
    "                subfolder_path = os.path.join(dirpath, dirname)\n",
    "                # Get all image files in the subfolder\n",
    "                image_files = [f for f in os.listdir(subfolder_path) if os.path.isfile(os.path.join(subfolder_path, f))]\n",
    "                if image_files:\n",
    "                    # Randomly select one image\n",
    "                    selected_image = random.choice(image_files)\n",
    "                    images_per_class[dirname] = os.path.join(subfolder_path, selected_image)\n",
    "                    \n",
    "    return images_per_class\n",
    "\n",
    "images_per_class = load_one_image_per_class(root_dir)\n",
    "\n",
    "# Display the images in one line\n",
    "plt.figure(figsize=(15, 5))  # Set the figure size\n",
    "for i, (label, image_path) in enumerate(images_per_class.items()):\n",
    "    img = mpimg.imread(image_path)  # Load the image\n",
    "    plt.subplot(1, len(images_per_class), i + 1)  # Create a subplot for each image in one row\n",
    "    plt.imshow(img)  # Display the image\n",
    "    plt.title(label)  # Set the title as the class label\n",
    "    plt.axis('off')  # Hide the axes\n",
    "\n",
    "plt.tight_layout()\n",
    "plt.show()\n"
   ]
  },
  {
   "cell_type": "code",
   "execution_count": 13,
   "metadata": {},
   "outputs": [
    {
     "name": "stdout",
     "output_type": "stream",
     "text": [
      "['akiec', 'bcc', 'bkl', 'df', 'mel', 'nv', 'vasc']\n"
     ]
    }
   ],
   "source": [
    "class_names = [d for d in os.listdir(train_dir) if os.path.isdir(os.path.join(train_dir, d))]\n",
    "n_classes = len(class_names)\n",
    "print(class_names)"
   ]
  },
  {
   "cell_type": "code",
   "execution_count": 14,
   "metadata": {},
   "outputs": [
    {
     "name": "stdout",
     "output_type": "stream",
     "text": [
      "----------------------------------------------------------------\n",
      "        Layer (type)               Output Shape         Param #\n",
      "================================================================\n",
      "            Conv2d-1        [-1, 128, 141, 141]         124,544\n",
      "              ReLU-2        [-1, 128, 141, 141]               0\n",
      "FractionalMaxPool2d-3          [-1, 128, 20, 20]               0\n",
      "            Conv2d-4          [-1, 128, 20, 20]          16,384\n",
      "       BatchNorm2d-5          [-1, 128, 20, 20]             256\n",
      "         Hardswish-6          [-1, 128, 20, 20]               0\n",
      " AdaptiveAvgPool2d-7            [-1, 128, 1, 1]               0\n",
      "            Conv2d-8            [-1, 128, 1, 1]          16,384\n",
      "              ReLU-9            [-1, 128, 1, 1]               0\n",
      "           Conv2d-10            [-1, 128, 1, 1]          16,384\n",
      "AdaptiveMaxPool2d-11            [-1, 128, 1, 1]               0\n",
      "           Conv2d-12            [-1, 128, 1, 1]          16,384\n",
      "             ReLU-13            [-1, 128, 1, 1]               0\n",
      "           Conv2d-14            [-1, 128, 1, 1]          16,384\n",
      "          Sigmoid-15            [-1, 128, 1, 1]               0\n",
      " ChannelAttention-16            [-1, 128, 1, 1]               0\n",
      "           Conv2d-17            [-1, 1, 20, 20]              18\n",
      "          Sigmoid-18            [-1, 1, 20, 20]               0\n",
      " SpatialAttention-19            [-1, 1, 20, 20]               0\n",
      "        Conv_CBAM-20          [-1, 128, 20, 20]               0\n",
      "           Conv2d-21             [-1, 16, 6, 6]          10,368\n",
      "         ConvUnit-22             [-1, 16, 6, 6]               0\n",
      "           Conv2d-23             [-1, 16, 6, 6]          10,368\n",
      "         ConvUnit-24             [-1, 16, 6, 6]               0\n",
      "           Conv2d-25             [-1, 16, 6, 6]          10,368\n",
      "         ConvUnit-26             [-1, 16, 6, 6]               0\n",
      "           Conv2d-27             [-1, 16, 6, 6]          10,368\n",
      "         ConvUnit-28             [-1, 16, 6, 6]               0\n",
      "           Conv2d-29             [-1, 16, 6, 6]          10,368\n",
      "         ConvUnit-30             [-1, 16, 6, 6]               0\n",
      "           Conv2d-31             [-1, 16, 6, 6]          10,368\n",
      "         ConvUnit-32             [-1, 16, 6, 6]               0\n",
      "           Conv2d-33             [-1, 16, 6, 6]          10,368\n",
      "         ConvUnit-34             [-1, 16, 6, 6]               0\n",
      "           Conv2d-35             [-1, 16, 6, 6]          10,368\n",
      "         ConvUnit-36             [-1, 16, 6, 6]               0\n",
      "     Primary_Caps-37               [-1, 8, 576]               0\n",
      "      Digits_Caps-38             [-1, 7, 16, 1]               0\n",
      "================================================================\n",
      "Total params: 289,682\n",
      "Trainable params: 289,682\n",
      "Non-trainable params: 0\n",
      "----------------------------------------------------------------\n",
      "Input size (MB): 1.02\n",
      "Forward/backward pass size (MB): 40.91\n",
      "Params size (MB): 1.11\n",
      "Estimated Total Size (MB): 43.04\n",
      "----------------------------------------------------------------\n"
     ]
    }
   ],
   "source": [
    "# Create capsule network.\n",
    "n_channels = 3\n",
    "conv_outputs = 128 #Feature_map\n",
    "num_primary_units = 8\n",
    "primary_unit_size = 16 * 6 * 6  # fixme get from conv2d\n",
    "output_unit_size = 16\n",
    "img_size = 299\n",
    "mode='128'\n",
    "network = FixCapsNet(conv_inputs=n_channels,\n",
    "                     conv_outputs=conv_outputs,\n",
    "                     primary_units=num_primary_units,\n",
    "                     primary_unit_size=primary_unit_size,\n",
    "                     num_classes=n_classes,\n",
    "                     output_unit_size=16,\n",
    "                     init_weights=True,\n",
    "                     mode=mode)\n",
    "network = network.to(device)\n",
    "summary(network,(n_channels,img_size,img_size))"
   ]
  },
  {
   "cell_type": "code",
   "execution_count": null,
   "metadata": {},
   "outputs": [],
   "source": [
    "# dsize = (1, 3, 299, 299)\n",
    "# input_data = torch.randn(dsize).to(device)\n",
    "# pff(m_name=\"FixCaps\"+'-'+mode,model=network,inputes=input_data)"
   ]
  },
  {
   "cell_type": "code",
   "execution_count": 16,
   "metadata": {},
   "outputs": [],
   "source": [
    "def train(epoch):\n",
    "    network.train()\n",
    "    global best_train,train_evl_result#,evl_tmp_result\n",
    "    running_loss,r_pre = 0., 0.\n",
    "    print_step = len(train_loader)//2\n",
    "    steps_num = len(train_loader)\n",
    "    tmp_size = BatchSize\n",
    "    print(f'\\033[1;32m[Train Epoch:[{epoch}]{img_title} ==> Training]\\033[0m ...')\n",
    "    optimizer.zero_grad()\n",
    "    train_tmp_result = torch.zeros(n_classes,n_classes)\n",
    "    \n",
    "    for batch_idx, (data, target) in enumerate(tqdm(train_loader)):        \n",
    "\n",
    "        batch_idx += 1\n",
    "        target_indices = target\n",
    "        target_one_hot = one_hot(target, length=n_classes)\n",
    "        data, target = Variable(data).to(device), Variable(target_one_hot).to(device)\n",
    "\n",
    "        output = network(data)\n",
    "        loss = network.loss(output, target, size_average=True)       \n",
    "        loss.backward()     \n",
    "        optimizer.step()\n",
    "        optimizer.zero_grad()\n",
    "        \n",
    "        running_loss += loss.item()\n",
    "        \n",
    "        v_mag = torch.sqrt(torch.sum(output**2, dim=2, keepdim=True)) \n",
    "        pred = v_mag.data.max(1, keepdim=True)[1].cpu().squeeze()\n",
    "        r_pre += pred.eq(target_indices.view_as(pred)).squeeze().sum()\n",
    "        tmp_pre = r_pre/(batch_idx*BatchSize)\n",
    "        \n",
    "        if batch_idx % print_step == 0 and batch_idx != steps_num:\n",
    "            print(\"[{}/{}] Loss{:.5f},ACC:{:.5f}\".format(batch_idx,len(train_loader),\n",
    "                                                         loss,tmp_pre))\n",
    "        if batch_idx % steps_num == 0 and train_num % tmp_size != 0:\n",
    "            tmp_size = train_num % tmp_size\n",
    "                          \n",
    "        for i in range(tmp_size):\n",
    "            pred_x = pred.numpy()\n",
    "            train_tmp_result[target_indices[i]][pred_x[i]] +=1\n",
    "\n",
    "        if best_train < tmp_pre and tmp_pre >= 80: \n",
    "            torch.save(network.state_dict(), iter_path)\n",
    "        \n",
    "    epoch_acc = r_pre / train_num\n",
    "    epoch_loss = running_loss / len(train_loader)  \n",
    "    train_loss_list.append(epoch_loss)\n",
    "    train_acc_list.append(epoch_acc) \n",
    "    scheduler.step()\n",
    "    if best_train < epoch_acc:\n",
    "        best_train = epoch_acc\n",
    "        train_evl_result = train_tmp_result.clone()\n",
    "        torch.save(network.state_dict(), last_path)\n",
    "        torch.save(train_evl_result, f'./tmp/{img_title}/{suf}/train_evl_result.pth')\n",
    "    \n",
    "    print(\"Train Epoch:[{}] Loss:{:.5f},Acc:{:.5f},Best_train:{:.5f}\".format(epoch,epoch_loss,\n",
    "                                                                     epoch_acc,best_train))"
   ]
  },
  {
   "cell_type": "code",
   "execution_count": 17,
   "metadata": {},
   "outputs": [],
   "source": [
    "def test(split=\"test\"):\n",
    "    network.eval()\n",
    "    global test_acc,eval_acc,best_acc,net_parameters\n",
    "    global test_evl_result,val_evl_result#,evl_tmp_result\n",
    "    cor_loss,correct,Auc, Acc= 0, 0, 0, 0\n",
    "    evl_tmp_result = torch.zeros(n_classes,n_classes)\n",
    "    \n",
    "    if split == 'val':\n",
    "        data_loader = val_loader\n",
    "        tmp_size = V_size\n",
    "        data_num = val_num\n",
    "    else:\n",
    "        data_loader = test_loader\n",
    "        tmp_size = T_size\n",
    "        data_num = test_num\n",
    "        \n",
    "    steps_num = len(data_loader)\n",
    "    print(f'\\033[35m{img_title} ==> {split} ...\\033[0m')\n",
    "    \n",
    "    with torch.no_grad():\n",
    "        for batch_idx, (data, target) in enumerate(tqdm(data_loader)):\n",
    "            batch_idx +=1\n",
    "            target_indices = target#torch.Size([batch, 7])  \n",
    "            target_one_hot = one_hot(target, length=n_classes)            \n",
    "            data, target = Variable(data).to(device), Variable(target_one_hot).to(device)\n",
    "\n",
    "            output= network(data)#torch.Size([batch_size, 7, 16, 1])         \n",
    "            v_mag = torch.sqrt(torch.sum(output**2, dim=2, keepdim=True))\n",
    "            pred = v_mag.data.max(1, keepdim=True)[1].cpu()#[9, 2, 1, 1, 6,..., 1, 4, 6, 5, 7,]\n",
    "            \n",
    "            if batch_idx % steps_num == 0 and data_num % tmp_size != 0:\n",
    "                tmp_size = data_num % tmp_size\n",
    "                          \n",
    "            for i in range(tmp_size):\n",
    "                pred_y = pred.numpy()\n",
    "                evl_tmp_result[target_indices[i]][pred_y[i]] +=1 \n",
    "\n",
    "        diag_sum = torch.sum(evl_tmp_result.diagonal())\n",
    "        all_sum = torch.sum(evl_tmp_result) \n",
    "        test_acc = 100. * float(torch.div(diag_sum,all_sum)) \n",
    "        print(f\"{split}_Acc:\\033[1;32m{round(float(test_acc),3)}%\\033[0m\")\n",
    "\n",
    "        if split == 'val':\n",
    "            val_acc_list.append(test_acc)\n",
    "            if test_acc >= best_acc:\n",
    "                best_acc = test_acc\n",
    "                val_evl_result = evl_tmp_result.clone()#copy.deepcopy(input)\n",
    "                torch.save(network.state_dict(), save_PATH)\n",
    "                torch.save(val_evl_result, f'./tmp/{img_title}/{suf}/best_evl_result.pth')\n",
    "            print(f\"Best_val:\\033[1;32m[{round(float(best_acc),3)}%]\\033[0m\")\n",
    "        else:\n",
    "            test_acc_list.append(test_acc)\n",
    "            if test_acc >= eval_acc:\n",
    "                eval_acc = test_acc\n",
    "                test_evl_result = evl_tmp_result.clone()#copy.deepcopy(input)\n",
    "                torch.save(network.state_dict(), f'./tmp/{img_title}/{suf}/{split}_best_{img_title}_{suf}.pth')\n",
    "                torch.save(test_evl_result, f'./tmp/{img_title}/{suf}/{split}_evl_result.pth')\n",
    "            print(f\"Best_eval:\\033[1;32m[{round(float(eval_acc),3)}%]\\033[0m\")\n",
    "    "
   ]
  },
  {
   "cell_type": "code",
   "execution_count": 20,
   "metadata": {},
   "outputs": [
    {
     "name": "stdout",
     "output_type": "stream",
     "text": [
      "suf: 1010_213534\n",
      "Store: \"./tmp/HAM10000/1010_213534\" created\n",
      "Save path for best model: ./tmp/HAM10000/1010_213534/best_HAM10000_1010_213534.pth\n",
      "Save path for last model: ./tmp/HAM10000/1010_213534/last_HAM10000_1010_213534.pth\n",
      "Iteration path: ./tmp/HAM10000/1010_213534/train_HAM10000_1010_213534.pth\n"
     ]
    }
   ],
   "source": [
    "try:\n",
    "    print(f\"suf: {suf}\")\n",
    "except NameError:\n",
    "    suf = time.strftime(\"%m%d_%H%M%S\", time.localtime())\n",
    "    print(f\"suf: {suf}\")\n",
    "\n",
    "# Define the path for the temporary storage\n",
    "store_path = f'./tmp/{img_title}/{suf}'\n",
    "\n",
    "# Create the directory if it does not exist\n",
    "if not os.path.exists(store_path):\n",
    "    os.makedirs(store_path)\n",
    "    print(f'Store: \"{store_path}\" created')\n",
    "else:\n",
    "    print(f'Store: \"{store_path}\" already exists')\n",
    "\n",
    "# Define paths for training and model files\n",
    "iter_path = f'{store_path}/train_{img_title}_{suf}.pth'\n",
    "save_PATH = f'{store_path}/best_{img_title}_{suf}.pth'\n",
    "last_path = f'{store_path}/last_{img_title}_{suf}.pth'\n",
    "\n",
    "# Print the save paths\n",
    "print(f'Save path for best model: {save_PATH}')\n",
    "print(f'Save path for last model: {last_path}')\n",
    "print(f'Iteration path: {iter_path}')"
   ]
  },
  {
   "cell_type": "code",
   "execution_count": 18,
   "metadata": {},
   "outputs": [],
   "source": [
    "learning_rate = 0.123\n",
    "optimizer = optim.Adam(network.parameters(), lr=learning_rate)\n",
    "scheduler = lr_scheduler.CosineAnnealingLR(optimizer, 5, eta_min=1e-8, last_epoch=-1)"
   ]
  },
  {
   "cell_type": "code",
   "execution_count": 21,
   "metadata": {},
   "outputs": [
    {
     "name": "stdout",
     "output_type": "stream",
     "text": [
      "\u001b[1;32m[Train Epoch:[1]HAM10000 ==> Training]\u001b[0m ...\n"
     ]
    },
    {
     "name": "stderr",
     "output_type": "stream",
     "text": [
      " 50%|█████     | 24/48 [04:12<04:06, 10.28s/it]"
     ]
    },
    {
     "name": "stdout",
     "output_type": "stream",
     "text": [
      "[24/48] Loss0.21000,ACC:0.65799\n"
     ]
    },
    {
     "name": "stderr",
     "output_type": "stream",
     "text": [
      "100%|██████████| 48/48 [08:19<00:00, 10.41s/it]\n"
     ]
    },
    {
     "name": "stdout",
     "output_type": "stream",
     "text": [
      "Train Epoch:[1] Loss:0.23087,Acc:0.67416,Best_train:0.67416\n",
      "\u001b[35mHAM10000 ==> val ...\u001b[0m\n"
     ]
    },
    {
     "name": "stderr",
     "output_type": "stream",
     "text": [
      "100%|██████████| 51/51 [01:15<00:00,  1.48s/it]\n"
     ]
    },
    {
     "name": "stdout",
     "output_type": "stream",
     "text": [
      "val_Acc:\u001b[1;32m67.132%\u001b[0m\n",
      "Best_val:\u001b[1;32m[67.132%]\u001b[0m\n",
      "\u001b[1;32m[Train Epoch:[2]HAM10000 ==> Training]\u001b[0m ...\n"
     ]
    },
    {
     "name": "stderr",
     "output_type": "stream",
     "text": [
      " 50%|█████     | 24/48 [04:44<04:15, 10.64s/it]"
     ]
    },
    {
     "name": "stdout",
     "output_type": "stream",
     "text": [
      "[24/48] Loss0.19920,ACC:0.67386\n"
     ]
    },
    {
     "name": "stderr",
     "output_type": "stream",
     "text": [
      "100%|██████████| 48/48 [08:56<00:00, 11.18s/it]\n"
     ]
    },
    {
     "name": "stdout",
     "output_type": "stream",
     "text": [
      "Train Epoch:[2] Loss:0.22207,Acc:0.67753,Best_train:0.67753\n",
      "\u001b[35mHAM10000 ==> val ...\u001b[0m\n"
     ]
    },
    {
     "name": "stderr",
     "output_type": "stream",
     "text": [
      "100%|██████████| 51/51 [01:07<00:00,  1.32s/it]\n"
     ]
    },
    {
     "name": "stdout",
     "output_type": "stream",
     "text": [
      "val_Acc:\u001b[1;32m70.474%\u001b[0m\n",
      "Best_val:\u001b[1;32m[70.474%]\u001b[0m\n",
      "\u001b[1;32m[Train Epoch:[3]HAM10000 ==> Training]\u001b[0m ...\n"
     ]
    },
    {
     "name": "stderr",
     "output_type": "stream",
     "text": [
      " 50%|█████     | 24/48 [04:45<04:24, 11.01s/it]"
     ]
    },
    {
     "name": "stdout",
     "output_type": "stream",
     "text": [
      "[24/48] Loss0.22813,ACC:0.67907\n"
     ]
    },
    {
     "name": "stderr",
     "output_type": "stream",
     "text": [
      "100%|██████████| 48/48 [08:55<00:00, 11.16s/it]\n"
     ]
    },
    {
     "name": "stdout",
     "output_type": "stream",
     "text": [
      "Train Epoch:[3] Loss:0.21813,Acc:0.68040,Best_train:0.68040\n",
      "\u001b[35mHAM10000 ==> val ...\u001b[0m\n"
     ]
    },
    {
     "name": "stderr",
     "output_type": "stream",
     "text": [
      "100%|██████████| 51/51 [01:07<00:00,  1.33s/it]\n"
     ]
    },
    {
     "name": "stdout",
     "output_type": "stream",
     "text": [
      "val_Acc:\u001b[1;32m69.726%\u001b[0m\n",
      "Best_val:\u001b[1;32m[70.474%]\u001b[0m\n",
      "\u001b[1;32m[Train Epoch:[4]HAM10000 ==> Training]\u001b[0m ...\n"
     ]
    },
    {
     "name": "stderr",
     "output_type": "stream",
     "text": [
      " 50%|█████     | 24/48 [04:31<04:14, 10.60s/it]"
     ]
    },
    {
     "name": "stdout",
     "output_type": "stream",
     "text": [
      "[24/48] Loss0.24650,ACC:0.67981\n"
     ]
    },
    {
     "name": "stderr",
     "output_type": "stream",
     "text": [
      "100%|██████████| 48/48 [08:39<00:00, 10.82s/it]\n"
     ]
    },
    {
     "name": "stdout",
     "output_type": "stream",
     "text": [
      "Train Epoch:[4] Loss:0.21581,Acc:0.68315,Best_train:0.68315\n",
      "\u001b[35mHAM10000 ==> val ...\u001b[0m\n"
     ]
    },
    {
     "name": "stderr",
     "output_type": "stream",
     "text": [
      "100%|██████████| 51/51 [01:07<00:00,  1.32s/it]\n"
     ]
    },
    {
     "name": "stdout",
     "output_type": "stream",
     "text": [
      "val_Acc:\u001b[1;32m70.923%\u001b[0m\n",
      "Best_val:\u001b[1;32m[70.923%]\u001b[0m\n",
      "\u001b[1;32m[Train Epoch:[5]HAM10000 ==> Training]\u001b[0m ...\n"
     ]
    },
    {
     "name": "stderr",
     "output_type": "stream",
     "text": [
      " 50%|█████     | 24/48 [04:33<04:08, 10.34s/it]"
     ]
    },
    {
     "name": "stdout",
     "output_type": "stream",
     "text": [
      "[24/48] Loss0.19841,ACC:0.68948\n"
     ]
    },
    {
     "name": "stderr",
     "output_type": "stream",
     "text": [
      "100%|██████████| 48/48 [08:38<00:00, 10.80s/it]\n"
     ]
    },
    {
     "name": "stdout",
     "output_type": "stream",
     "text": [
      "Train Epoch:[5] Loss:0.21388,Acc:0.68040,Best_train:0.68315\n",
      "\u001b[35mHAM10000 ==> val ...\u001b[0m\n"
     ]
    },
    {
     "name": "stderr",
     "output_type": "stream",
     "text": [
      "100%|██████████| 51/51 [01:08<00:00,  1.34s/it]\n"
     ]
    },
    {
     "name": "stdout",
     "output_type": "stream",
     "text": [
      "val_Acc:\u001b[1;32m70.823%\u001b[0m\n",
      "Best_val:\u001b[1;32m[70.923%]\u001b[0m\n",
      "\u001b[1;32m[Train Epoch:[6]HAM10000 ==> Training]\u001b[0m ...\n"
     ]
    },
    {
     "name": "stderr",
     "output_type": "stream",
     "text": [
      " 50%|█████     | 24/48 [04:36<04:12, 10.53s/it]"
     ]
    },
    {
     "name": "stdout",
     "output_type": "stream",
     "text": [
      "[24/48] Loss0.20845,ACC:0.67560\n"
     ]
    },
    {
     "name": "stderr",
     "output_type": "stream",
     "text": [
      "100%|██████████| 48/48 [08:43<00:00, 10.90s/it]\n"
     ]
    },
    {
     "name": "stdout",
     "output_type": "stream",
     "text": [
      "Train Epoch:[6] Loss:0.21502,Acc:0.68215,Best_train:0.68315\n",
      "\u001b[35mHAM10000 ==> val ...\u001b[0m\n"
     ]
    },
    {
     "name": "stderr",
     "output_type": "stream",
     "text": [
      "100%|██████████| 51/51 [01:08<00:00,  1.34s/it]\n"
     ]
    },
    {
     "name": "stdout",
     "output_type": "stream",
     "text": [
      "val_Acc:\u001b[1;32m71.022%\u001b[0m\n",
      "Best_val:\u001b[1;32m[71.022%]\u001b[0m\n",
      "\u001b[1;32m[Train Epoch:[7]HAM10000 ==> Training]\u001b[0m ...\n"
     ]
    },
    {
     "name": "stderr",
     "output_type": "stream",
     "text": [
      " 50%|█████     | 24/48 [04:35<04:10, 10.45s/it]"
     ]
    },
    {
     "name": "stdout",
     "output_type": "stream",
     "text": [
      "[24/48] Loss0.19562,ACC:0.68824\n"
     ]
    },
    {
     "name": "stderr",
     "output_type": "stream",
     "text": [
      "100%|██████████| 48/48 [08:44<00:00, 10.92s/it]\n"
     ]
    },
    {
     "name": "stdout",
     "output_type": "stream",
     "text": [
      "Train Epoch:[7] Loss:0.21558,Acc:0.68315,Best_train:0.68315\n",
      "\u001b[35mHAM10000 ==> val ...\u001b[0m\n"
     ]
    },
    {
     "name": "stderr",
     "output_type": "stream",
     "text": [
      "100%|██████████| 51/51 [01:09<00:00,  1.36s/it]\n"
     ]
    },
    {
     "name": "stdout",
     "output_type": "stream",
     "text": [
      "val_Acc:\u001b[1;32m69.825%\u001b[0m\n",
      "Best_val:\u001b[1;32m[71.022%]\u001b[0m\n",
      "\u001b[1;32m[Train Epoch:[8]HAM10000 ==> Training]\u001b[0m ...\n"
     ]
    },
    {
     "name": "stderr",
     "output_type": "stream",
     "text": [
      " 50%|█████     | 24/48 [04:38<04:13, 10.55s/it]"
     ]
    },
    {
     "name": "stdout",
     "output_type": "stream",
     "text": [
      "[24/48] Loss0.19494,ACC:0.68899\n"
     ]
    },
    {
     "name": "stderr",
     "output_type": "stream",
     "text": [
      "100%|██████████| 48/48 [08:46<00:00, 10.96s/it]\n"
     ]
    },
    {
     "name": "stdout",
     "output_type": "stream",
     "text": [
      "Train Epoch:[8] Loss:0.21602,Acc:0.67965,Best_train:0.68315\n",
      "\u001b[35mHAM10000 ==> val ...\u001b[0m\n"
     ]
    },
    {
     "name": "stderr",
     "output_type": "stream",
     "text": [
      "100%|██████████| 51/51 [01:07<00:00,  1.32s/it]\n"
     ]
    },
    {
     "name": "stdout",
     "output_type": "stream",
     "text": [
      "val_Acc:\u001b[1;32m73.067%\u001b[0m\n",
      "Best_val:\u001b[1;32m[73.067%]\u001b[0m\n",
      "\u001b[1;32m[Train Epoch:[9]HAM10000 ==> Training]\u001b[0m ...\n"
     ]
    },
    {
     "name": "stderr",
     "output_type": "stream",
     "text": [
      " 50%|█████     | 24/48 [04:35<04:11, 10.47s/it]"
     ]
    },
    {
     "name": "stdout",
     "output_type": "stream",
     "text": [
      "[24/48] Loss0.21040,ACC:0.68130\n"
     ]
    },
    {
     "name": "stderr",
     "output_type": "stream",
     "text": [
      "100%|██████████| 48/48 [08:44<00:00, 10.92s/it]\n"
     ]
    },
    {
     "name": "stdout",
     "output_type": "stream",
     "text": [
      "Train Epoch:[9] Loss:0.21259,Acc:0.68539,Best_train:0.68539\n",
      "\u001b[35mHAM10000 ==> val ...\u001b[0m\n"
     ]
    },
    {
     "name": "stderr",
     "output_type": "stream",
     "text": [
      "100%|██████████| 51/51 [01:08<00:00,  1.35s/it]\n"
     ]
    },
    {
     "name": "stdout",
     "output_type": "stream",
     "text": [
      "val_Acc:\u001b[1;32m71.771%\u001b[0m\n",
      "Best_val:\u001b[1;32m[73.067%]\u001b[0m\n",
      "\u001b[1;32m[Train Epoch:[10]HAM10000 ==> Training]\u001b[0m ...\n"
     ]
    },
    {
     "name": "stderr",
     "output_type": "stream",
     "text": [
      " 50%|█████     | 24/48 [04:36<04:12, 10.51s/it]"
     ]
    },
    {
     "name": "stdout",
     "output_type": "stream",
     "text": [
      "[24/48] Loss0.25001,ACC:0.68775\n"
     ]
    },
    {
     "name": "stderr",
     "output_type": "stream",
     "text": [
      "100%|██████████| 48/48 [08:43<00:00, 10.90s/it]\n"
     ]
    },
    {
     "name": "stdout",
     "output_type": "stream",
     "text": [
      "Train Epoch:[10] Loss:0.21142,Acc:0.68901,Best_train:0.68901\n",
      "\u001b[35mHAM10000 ==> val ...\u001b[0m\n"
     ]
    },
    {
     "name": "stderr",
     "output_type": "stream",
     "text": [
      "100%|██████████| 51/51 [01:08<00:00,  1.35s/it]\n"
     ]
    },
    {
     "name": "stdout",
     "output_type": "stream",
     "text": [
      "val_Acc:\u001b[1;32m73.666%\u001b[0m\n",
      "Best_val:\u001b[1;32m[73.666%]\u001b[0m\n",
      "\u001b[1;32m[Train Epoch:[11]HAM10000 ==> Training]\u001b[0m ...\n"
     ]
    },
    {
     "name": "stderr",
     "output_type": "stream",
     "text": [
      " 50%|█████     | 24/48 [04:34<04:11, 10.47s/it]"
     ]
    },
    {
     "name": "stdout",
     "output_type": "stream",
     "text": [
      "[24/48] Loss0.20062,ACC:0.69891\n"
     ]
    },
    {
     "name": "stderr",
     "output_type": "stream",
     "text": [
      "100%|██████████| 48/48 [08:42<00:00, 10.88s/it]\n"
     ]
    },
    {
     "name": "stdout",
     "output_type": "stream",
     "text": [
      "Train Epoch:[11] Loss:0.20468,Acc:0.69600,Best_train:0.69600\n",
      "\u001b[35mHAM10000 ==> val ...\u001b[0m\n"
     ]
    },
    {
     "name": "stderr",
     "output_type": "stream",
     "text": [
      "100%|██████████| 51/51 [01:07<00:00,  1.33s/it]\n"
     ]
    },
    {
     "name": "stdout",
     "output_type": "stream",
     "text": [
      "val_Acc:\u001b[1;32m76.06%\u001b[0m\n",
      "Best_val:\u001b[1;32m[76.06%]\u001b[0m\n",
      "\u001b[1;32m[Train Epoch:[12]HAM10000 ==> Training]\u001b[0m ...\n"
     ]
    },
    {
     "name": "stderr",
     "output_type": "stream",
     "text": [
      " 50%|█████     | 24/48 [04:37<04:14, 10.62s/it]"
     ]
    },
    {
     "name": "stdout",
     "output_type": "stream",
     "text": [
      "[24/48] Loss0.21940,ACC:0.69891\n"
     ]
    },
    {
     "name": "stderr",
     "output_type": "stream",
     "text": [
      "100%|██████████| 48/48 [08:44<00:00, 10.93s/it]\n"
     ]
    },
    {
     "name": "stdout",
     "output_type": "stream",
     "text": [
      "Train Epoch:[12] Loss:0.19979,Acc:0.69988,Best_train:0.69988\n",
      "\u001b[35mHAM10000 ==> val ...\u001b[0m\n"
     ]
    },
    {
     "name": "stderr",
     "output_type": "stream",
     "text": [
      "100%|██████████| 51/51 [01:07<00:00,  1.32s/it]\n"
     ]
    },
    {
     "name": "stdout",
     "output_type": "stream",
     "text": [
      "val_Acc:\u001b[1;32m76.459%\u001b[0m\n",
      "Best_val:\u001b[1;32m[76.459%]\u001b[0m\n",
      "\u001b[1;32m[Train Epoch:[13]HAM10000 ==> Training]\u001b[0m ...\n"
     ]
    },
    {
     "name": "stderr",
     "output_type": "stream",
     "text": [
      " 50%|█████     | 24/48 [04:36<04:11, 10.48s/it]"
     ]
    },
    {
     "name": "stdout",
     "output_type": "stream",
     "text": [
      "[24/48] Loss0.17793,ACC:0.70362\n"
     ]
    },
    {
     "name": "stderr",
     "output_type": "stream",
     "text": [
      "100%|██████████| 48/48 [08:44<00:00, 10.93s/it]\n"
     ]
    },
    {
     "name": "stdout",
     "output_type": "stream",
     "text": [
      "Train Epoch:[13] Loss:0.19549,Acc:0.70449,Best_train:0.70449\n",
      "\u001b[35mHAM10000 ==> val ...\u001b[0m\n"
     ]
    },
    {
     "name": "stderr",
     "output_type": "stream",
     "text": [
      "100%|██████████| 51/51 [01:08<00:00,  1.35s/it]\n"
     ]
    },
    {
     "name": "stdout",
     "output_type": "stream",
     "text": [
      "val_Acc:\u001b[1;32m78.853%\u001b[0m\n",
      "Best_val:\u001b[1;32m[78.853%]\u001b[0m\n",
      "\u001b[1;32m[Train Epoch:[14]HAM10000 ==> Training]\u001b[0m ...\n"
     ]
    },
    {
     "name": "stderr",
     "output_type": "stream",
     "text": [
      " 50%|█████     | 24/48 [04:37<04:12, 10.50s/it]"
     ]
    },
    {
     "name": "stdout",
     "output_type": "stream",
     "text": [
      "[24/48] Loss0.17133,ACC:0.70660\n"
     ]
    },
    {
     "name": "stderr",
     "output_type": "stream",
     "text": [
      "100%|██████████| 48/48 [08:42<00:00, 10.88s/it]\n"
     ]
    },
    {
     "name": "stdout",
     "output_type": "stream",
     "text": [
      "Train Epoch:[14] Loss:0.19146,Acc:0.71149,Best_train:0.71149\n",
      "\u001b[35mHAM10000 ==> val ...\u001b[0m\n"
     ]
    },
    {
     "name": "stderr",
     "output_type": "stream",
     "text": [
      "100%|██████████| 51/51 [01:08<00:00,  1.34s/it]\n"
     ]
    },
    {
     "name": "stdout",
     "output_type": "stream",
     "text": [
      "val_Acc:\u001b[1;32m79.202%\u001b[0m\n",
      "Best_val:\u001b[1;32m[79.202%]\u001b[0m\n",
      "\u001b[1;32m[Train Epoch:[15]HAM10000 ==> Training]\u001b[0m ...\n"
     ]
    },
    {
     "name": "stderr",
     "output_type": "stream",
     "text": [
      " 50%|█████     | 24/48 [04:37<04:14, 10.61s/it]"
     ]
    },
    {
     "name": "stdout",
     "output_type": "stream",
     "text": [
      "[24/48] Loss0.20672,ACC:0.71007\n"
     ]
    },
    {
     "name": "stderr",
     "output_type": "stream",
     "text": [
      "100%|██████████| 48/48 [08:47<00:00, 10.98s/it]\n"
     ]
    },
    {
     "name": "stdout",
     "output_type": "stream",
     "text": [
      "Train Epoch:[15] Loss:0.19064,Acc:0.71174,Best_train:0.71174\n",
      "\u001b[35mHAM10000 ==> val ...\u001b[0m\n"
     ]
    },
    {
     "name": "stderr",
     "output_type": "stream",
     "text": [
      "100%|██████████| 51/51 [01:08<00:00,  1.34s/it]\n"
     ]
    },
    {
     "name": "stdout",
     "output_type": "stream",
     "text": [
      "val_Acc:\u001b[1;32m78.853%\u001b[0m\n",
      "Best_val:\u001b[1;32m[79.202%]\u001b[0m\n",
      "\u001b[1;32m[Train Epoch:[16]HAM10000 ==> Training]\u001b[0m ...\n"
     ]
    },
    {
     "name": "stderr",
     "output_type": "stream",
     "text": [
      " 50%|█████     | 24/48 [04:37<04:11, 10.50s/it]"
     ]
    },
    {
     "name": "stdout",
     "output_type": "stream",
     "text": [
      "[24/48] Loss0.20809,ACC:0.70164\n"
     ]
    },
    {
     "name": "stderr",
     "output_type": "stream",
     "text": [
      "100%|██████████| 48/48 [08:42<00:00, 10.89s/it]\n"
     ]
    },
    {
     "name": "stdout",
     "output_type": "stream",
     "text": [
      "Train Epoch:[16] Loss:0.19113,Acc:0.70986,Best_train:0.71174\n",
      "\u001b[35mHAM10000 ==> val ...\u001b[0m\n"
     ]
    },
    {
     "name": "stderr",
     "output_type": "stream",
     "text": [
      "100%|██████████| 51/51 [01:07<00:00,  1.33s/it]\n"
     ]
    },
    {
     "name": "stdout",
     "output_type": "stream",
     "text": [
      "val_Acc:\u001b[1;32m79.8%\u001b[0m\n",
      "Best_val:\u001b[1;32m[79.8%]\u001b[0m\n",
      "\u001b[1;32m[Train Epoch:[17]HAM10000 ==> Training]\u001b[0m ...\n"
     ]
    },
    {
     "name": "stderr",
     "output_type": "stream",
     "text": [
      " 50%|█████     | 24/48 [04:35<04:10, 10.44s/it]"
     ]
    },
    {
     "name": "stdout",
     "output_type": "stream",
     "text": [
      "[24/48] Loss0.20043,ACC:0.70809\n"
     ]
    },
    {
     "name": "stderr",
     "output_type": "stream",
     "text": [
      "100%|██████████| 48/48 [08:48<00:00, 11.02s/it]\n"
     ]
    },
    {
     "name": "stdout",
     "output_type": "stream",
     "text": [
      "Train Epoch:[17] Loss:0.19287,Acc:0.71036,Best_train:0.71174\n",
      "\u001b[35mHAM10000 ==> val ...\u001b[0m\n"
     ]
    },
    {
     "name": "stderr",
     "output_type": "stream",
     "text": [
      "100%|██████████| 51/51 [01:07<00:00,  1.32s/it]\n"
     ]
    },
    {
     "name": "stdout",
     "output_type": "stream",
     "text": [
      "val_Acc:\u001b[1;32m79.002%\u001b[0m\n",
      "Best_val:\u001b[1;32m[79.8%]\u001b[0m\n",
      "\u001b[1;32m[Train Epoch:[18]HAM10000 ==> Training]\u001b[0m ...\n"
     ]
    },
    {
     "name": "stderr",
     "output_type": "stream",
     "text": [
      " 50%|█████     | 24/48 [04:49<04:13, 10.55s/it]"
     ]
    },
    {
     "name": "stdout",
     "output_type": "stream",
     "text": [
      "[24/48] Loss0.17065,ACC:0.71329\n"
     ]
    },
    {
     "name": "stderr",
     "output_type": "stream",
     "text": [
      "100%|██████████| 48/48 [08:55<00:00, 11.16s/it]\n"
     ]
    },
    {
     "name": "stdout",
     "output_type": "stream",
     "text": [
      "Train Epoch:[18] Loss:0.19506,Acc:0.70949,Best_train:0.71174\n",
      "\u001b[35mHAM10000 ==> val ...\u001b[0m\n"
     ]
    },
    {
     "name": "stderr",
     "output_type": "stream",
     "text": [
      "100%|██████████| 51/51 [01:08<00:00,  1.34s/it]\n"
     ]
    },
    {
     "name": "stdout",
     "output_type": "stream",
     "text": [
      "val_Acc:\u001b[1;32m79.701%\u001b[0m\n",
      "Best_val:\u001b[1;32m[79.8%]\u001b[0m\n",
      "\u001b[1;32m[Train Epoch:[19]HAM10000 ==> Training]\u001b[0m ...\n"
     ]
    },
    {
     "name": "stderr",
     "output_type": "stream",
     "text": [
      " 50%|█████     | 24/48 [04:36<04:13, 10.55s/it]"
     ]
    },
    {
     "name": "stdout",
     "output_type": "stream",
     "text": [
      "[24/48] Loss0.20651,ACC:0.70982\n"
     ]
    },
    {
     "name": "stderr",
     "output_type": "stream",
     "text": [
      "100%|██████████| 48/48 [08:51<00:00, 11.08s/it]\n"
     ]
    },
    {
     "name": "stdout",
     "output_type": "stream",
     "text": [
      "Train Epoch:[19] Loss:0.19408,Acc:0.71011,Best_train:0.71174\n",
      "\u001b[35mHAM10000 ==> val ...\u001b[0m\n"
     ]
    },
    {
     "name": "stderr",
     "output_type": "stream",
     "text": [
      "100%|██████████| 51/51 [01:15<00:00,  1.48s/it]\n"
     ]
    },
    {
     "name": "stdout",
     "output_type": "stream",
     "text": [
      "val_Acc:\u001b[1;32m76.01%\u001b[0m\n",
      "Best_val:\u001b[1;32m[79.8%]\u001b[0m\n",
      "\u001b[1;32m[Train Epoch:[20]HAM10000 ==> Training]\u001b[0m ...\n"
     ]
    },
    {
     "name": "stderr",
     "output_type": "stream",
     "text": [
      " 50%|█████     | 24/48 [05:10<04:42, 11.75s/it]"
     ]
    },
    {
     "name": "stdout",
     "output_type": "stream",
     "text": [
      "[24/48] Loss0.16864,ACC:0.71205\n"
     ]
    },
    {
     "name": "stderr",
     "output_type": "stream",
     "text": [
      "100%|██████████| 48/48 [09:45<00:00, 12.19s/it]\n"
     ]
    },
    {
     "name": "stdout",
     "output_type": "stream",
     "text": [
      "Train Epoch:[20] Loss:0.19468,Acc:0.70874,Best_train:0.71174\n",
      "\u001b[35mHAM10000 ==> val ...\u001b[0m\n"
     ]
    },
    {
     "name": "stderr",
     "output_type": "stream",
     "text": [
      "100%|██████████| 51/51 [01:15<00:00,  1.48s/it]\n"
     ]
    },
    {
     "name": "stdout",
     "output_type": "stream",
     "text": [
      "val_Acc:\u001b[1;32m77.656%\u001b[0m\n",
      "Best_val:\u001b[1;32m[79.8%]\u001b[0m\n",
      "\u001b[1;32m[Train Epoch:[21]HAM10000 ==> Training]\u001b[0m ...\n"
     ]
    },
    {
     "name": "stderr",
     "output_type": "stream",
     "text": [
      " 50%|█████     | 24/48 [05:07<04:35, 11.49s/it]"
     ]
    },
    {
     "name": "stdout",
     "output_type": "stream",
     "text": [
      "[24/48] Loss0.19273,ACC:0.71627\n"
     ]
    },
    {
     "name": "stderr",
     "output_type": "stream",
     "text": [
      "100%|██████████| 48/48 [09:39<00:00, 12.08s/it]\n"
     ]
    },
    {
     "name": "stdout",
     "output_type": "stream",
     "text": [
      "Train Epoch:[21] Loss:0.18957,Acc:0.72072,Best_train:0.72072\n",
      "\u001b[35mHAM10000 ==> val ...\u001b[0m\n"
     ]
    },
    {
     "name": "stderr",
     "output_type": "stream",
     "text": [
      "100%|██████████| 51/51 [01:15<00:00,  1.48s/it]\n"
     ]
    },
    {
     "name": "stdout",
     "output_type": "stream",
     "text": [
      "val_Acc:\u001b[1;32m80.0%\u001b[0m\n",
      "Best_val:\u001b[1;32m[80.0%]\u001b[0m\n",
      "\u001b[1;32m[Train Epoch:[22]HAM10000 ==> Training]\u001b[0m ...\n"
     ]
    },
    {
     "name": "stderr",
     "output_type": "stream",
     "text": [
      " 50%|█████     | 24/48 [05:03<04:37, 11.57s/it]"
     ]
    },
    {
     "name": "stdout",
     "output_type": "stream",
     "text": [
      "[24/48] Loss0.17860,ACC:0.71701\n"
     ]
    },
    {
     "name": "stderr",
     "output_type": "stream",
     "text": [
      "100%|██████████| 48/48 [09:34<00:00, 11.96s/it]\n"
     ]
    },
    {
     "name": "stdout",
     "output_type": "stream",
     "text": [
      "Train Epoch:[22] Loss:0.18966,Acc:0.71598,Best_train:0.72072\n",
      "\u001b[35mHAM10000 ==> val ...\u001b[0m\n"
     ]
    },
    {
     "name": "stderr",
     "output_type": "stream",
     "text": [
      "100%|██████████| 51/51 [01:15<00:00,  1.48s/it]\n"
     ]
    },
    {
     "name": "stdout",
     "output_type": "stream",
     "text": [
      "val_Acc:\u001b[1;32m78.204%\u001b[0m\n",
      "Best_val:\u001b[1;32m[80.0%]\u001b[0m\n",
      "\u001b[1;32m[Train Epoch:[23]HAM10000 ==> Training]\u001b[0m ...\n"
     ]
    },
    {
     "name": "stderr",
     "output_type": "stream",
     "text": [
      " 50%|█████     | 24/48 [05:08<04:36, 11.50s/it]"
     ]
    },
    {
     "name": "stdout",
     "output_type": "stream",
     "text": [
      "[24/48] Loss0.22347,ACC:0.71925\n"
     ]
    },
    {
     "name": "stderr",
     "output_type": "stream",
     "text": [
      "100%|██████████| 48/48 [09:37<00:00, 12.03s/it]\n"
     ]
    },
    {
     "name": "stdout",
     "output_type": "stream",
     "text": [
      "Train Epoch:[23] Loss:0.18487,Acc:0.72222,Best_train:0.72222\n",
      "\u001b[35mHAM10000 ==> val ...\u001b[0m\n"
     ]
    },
    {
     "name": "stderr",
     "output_type": "stream",
     "text": [
      "100%|██████████| 51/51 [01:14<00:00,  1.46s/it]\n"
     ]
    },
    {
     "name": "stdout",
     "output_type": "stream",
     "text": [
      "val_Acc:\u001b[1;32m77.406%\u001b[0m\n",
      "Best_val:\u001b[1;32m[80.0%]\u001b[0m\n",
      "\u001b[1;32m[Train Epoch:[24]HAM10000 ==> Training]\u001b[0m ...\n"
     ]
    },
    {
     "name": "stderr",
     "output_type": "stream",
     "text": [
      " 50%|█████     | 24/48 [05:02<04:34, 11.45s/it]"
     ]
    },
    {
     "name": "stdout",
     "output_type": "stream",
     "text": [
      "[24/48] Loss0.17488,ACC:0.72197\n"
     ]
    },
    {
     "name": "stderr",
     "output_type": "stream",
     "text": [
      "100%|██████████| 48/48 [09:29<00:00, 11.87s/it]\n"
     ]
    },
    {
     "name": "stdout",
     "output_type": "stream",
     "text": [
      "Train Epoch:[24] Loss:0.18174,Acc:0.72747,Best_train:0.72747\n",
      "\u001b[35mHAM10000 ==> val ...\u001b[0m\n"
     ]
    },
    {
     "name": "stderr",
     "output_type": "stream",
     "text": [
      "100%|██████████| 51/51 [01:13<00:00,  1.44s/it]\n"
     ]
    },
    {
     "name": "stdout",
     "output_type": "stream",
     "text": [
      "val_Acc:\u001b[1;32m78.304%\u001b[0m\n",
      "Best_val:\u001b[1;32m[80.0%]\u001b[0m\n",
      "\u001b[1;32m[Train Epoch:[25]HAM10000 ==> Training]\u001b[0m ...\n"
     ]
    },
    {
     "name": "stderr",
     "output_type": "stream",
     "text": [
      " 50%|█████     | 24/48 [05:05<04:32, 11.36s/it]"
     ]
    },
    {
     "name": "stdout",
     "output_type": "stream",
     "text": [
      "[24/48] Loss0.19206,ACC:0.73462\n"
     ]
    },
    {
     "name": "stderr",
     "output_type": "stream",
     "text": [
      "100%|██████████| 48/48 [09:24<00:00, 11.77s/it]\n"
     ]
    },
    {
     "name": "stdout",
     "output_type": "stream",
     "text": [
      "Train Epoch:[25] Loss:0.18064,Acc:0.73159,Best_train:0.73159\n",
      "\u001b[35mHAM10000 ==> val ...\u001b[0m\n"
     ]
    },
    {
     "name": "stderr",
     "output_type": "stream",
     "text": [
      "100%|██████████| 51/51 [01:08<00:00,  1.33s/it]\n"
     ]
    },
    {
     "name": "stdout",
     "output_type": "stream",
     "text": [
      "val_Acc:\u001b[1;32m78.404%\u001b[0m\n",
      "Best_val:\u001b[1;32m[80.0%]\u001b[0m\n",
      "\u001b[1;32m[Train Epoch:[26]HAM10000 ==> Training]\u001b[0m ...\n"
     ]
    },
    {
     "name": "stderr",
     "output_type": "stream",
     "text": [
      " 50%|█████     | 24/48 [04:35<04:12, 10.54s/it]"
     ]
    },
    {
     "name": "stdout",
     "output_type": "stream",
     "text": [
      "[24/48] Loss0.20327,ACC:0.72991\n"
     ]
    },
    {
     "name": "stderr",
     "output_type": "stream",
     "text": [
      "100%|██████████| 48/48 [08:41<00:00, 10.87s/it]\n"
     ]
    },
    {
     "name": "stdout",
     "output_type": "stream",
     "text": [
      "Train Epoch:[26] Loss:0.18001,Acc:0.72784,Best_train:0.73159\n",
      "\u001b[35mHAM10000 ==> val ...\u001b[0m\n"
     ]
    },
    {
     "name": "stderr",
     "output_type": "stream",
     "text": [
      "100%|██████████| 51/51 [01:07<00:00,  1.32s/it]\n"
     ]
    },
    {
     "name": "stdout",
     "output_type": "stream",
     "text": [
      "val_Acc:\u001b[1;32m78.803%\u001b[0m\n",
      "Best_val:\u001b[1;32m[80.0%]\u001b[0m\n",
      "\u001b[1;32m[Train Epoch:[27]HAM10000 ==> Training]\u001b[0m ...\n"
     ]
    },
    {
     "name": "stderr",
     "output_type": "stream",
     "text": [
      " 50%|█████     | 24/48 [04:34<04:08, 10.36s/it]"
     ]
    },
    {
     "name": "stdout",
     "output_type": "stream",
     "text": [
      "[24/48] Loss0.15103,ACC:0.72817\n"
     ]
    },
    {
     "name": "stderr",
     "output_type": "stream",
     "text": [
      "100%|██████████| 48/48 [08:38<00:00, 10.81s/it]\n"
     ]
    },
    {
     "name": "stdout",
     "output_type": "stream",
     "text": [
      "Train Epoch:[27] Loss:0.18315,Acc:0.73021,Best_train:0.73159\n",
      "\u001b[35mHAM10000 ==> val ...\u001b[0m\n"
     ]
    },
    {
     "name": "stderr",
     "output_type": "stream",
     "text": [
      "100%|██████████| 51/51 [01:07<00:00,  1.32s/it]\n"
     ]
    },
    {
     "name": "stdout",
     "output_type": "stream",
     "text": [
      "val_Acc:\u001b[1;32m80.599%\u001b[0m\n",
      "Best_val:\u001b[1;32m[80.599%]\u001b[0m\n",
      "\u001b[1;32m[Train Epoch:[28]HAM10000 ==> Training]\u001b[0m ...\n"
     ]
    },
    {
     "name": "stderr",
     "output_type": "stream",
     "text": [
      " 50%|█████     | 24/48 [04:33<04:10, 10.42s/it]"
     ]
    },
    {
     "name": "stdout",
     "output_type": "stream",
     "text": [
      "[24/48] Loss0.20812,ACC:0.72966\n"
     ]
    },
    {
     "name": "stderr",
     "output_type": "stream",
     "text": [
      "100%|██████████| 48/48 [08:39<00:00, 10.83s/it]\n"
     ]
    },
    {
     "name": "stdout",
     "output_type": "stream",
     "text": [
      "Train Epoch:[28] Loss:0.18447,Acc:0.72172,Best_train:0.73159\n",
      "\u001b[35mHAM10000 ==> val ...\u001b[0m\n"
     ]
    },
    {
     "name": "stderr",
     "output_type": "stream",
     "text": [
      "100%|██████████| 51/51 [01:07<00:00,  1.32s/it]\n"
     ]
    },
    {
     "name": "stdout",
     "output_type": "stream",
     "text": [
      "val_Acc:\u001b[1;32m78.753%\u001b[0m\n",
      "Best_val:\u001b[1;32m[80.599%]\u001b[0m\n",
      "\u001b[1;32m[Train Epoch:[29]HAM10000 ==> Training]\u001b[0m ...\n"
     ]
    },
    {
     "name": "stderr",
     "output_type": "stream",
     "text": [
      " 50%|█████     | 24/48 [04:34<04:10, 10.43s/it]"
     ]
    },
    {
     "name": "stdout",
     "output_type": "stream",
     "text": [
      "[24/48] Loss0.18221,ACC:0.72197\n"
     ]
    },
    {
     "name": "stderr",
     "output_type": "stream",
     "text": [
      "100%|██████████| 48/48 [08:38<00:00, 10.81s/it]\n"
     ]
    },
    {
     "name": "stdout",
     "output_type": "stream",
     "text": [
      "Train Epoch:[29] Loss:0.18631,Acc:0.72509,Best_train:0.73159\n",
      "\u001b[35mHAM10000 ==> val ...\u001b[0m\n"
     ]
    },
    {
     "name": "stderr",
     "output_type": "stream",
     "text": [
      "100%|██████████| 51/51 [01:06<00:00,  1.31s/it]\n"
     ]
    },
    {
     "name": "stdout",
     "output_type": "stream",
     "text": [
      "val_Acc:\u001b[1;32m78.603%\u001b[0m\n",
      "Best_val:\u001b[1;32m[80.599%]\u001b[0m\n",
      "\u001b[1;32m[Train Epoch:[30]HAM10000 ==> Training]\u001b[0m ...\n"
     ]
    },
    {
     "name": "stderr",
     "output_type": "stream",
     "text": [
      " 50%|█████     | 24/48 [04:32<04:09, 10.42s/it]"
     ]
    },
    {
     "name": "stdout",
     "output_type": "stream",
     "text": [
      "[24/48] Loss0.18257,ACC:0.71156\n"
     ]
    },
    {
     "name": "stderr",
     "output_type": "stream",
     "text": [
      "100%|██████████| 48/48 [08:36<00:00, 10.77s/it]\n"
     ]
    },
    {
     "name": "stdout",
     "output_type": "stream",
     "text": [
      "Train Epoch:[30] Loss:0.19242,Acc:0.71536,Best_train:0.73159\n",
      "\u001b[35mHAM10000 ==> val ...\u001b[0m\n"
     ]
    },
    {
     "name": "stderr",
     "output_type": "stream",
     "text": [
      "100%|██████████| 51/51 [01:07<00:00,  1.33s/it]\n"
     ]
    },
    {
     "name": "stdout",
     "output_type": "stream",
     "text": [
      "val_Acc:\u001b[1;32m77.756%\u001b[0m\n",
      "Best_val:\u001b[1;32m[80.599%]\u001b[0m\n",
      "\u001b[1;32m[Train Epoch:[31]HAM10000 ==> Training]\u001b[0m ...\n"
     ]
    },
    {
     "name": "stderr",
     "output_type": "stream",
     "text": [
      " 50%|█████     | 24/48 [04:33<04:11, 10.47s/it]"
     ]
    },
    {
     "name": "stdout",
     "output_type": "stream",
     "text": [
      "[24/48] Loss0.17977,ACC:0.72569\n"
     ]
    },
    {
     "name": "stderr",
     "output_type": "stream",
     "text": [
      "100%|██████████| 48/48 [08:38<00:00, 10.80s/it]\n"
     ]
    },
    {
     "name": "stdout",
     "output_type": "stream",
     "text": [
      "Train Epoch:[31] Loss:0.18358,Acc:0.72921,Best_train:0.73159\n",
      "\u001b[35mHAM10000 ==> val ...\u001b[0m\n"
     ]
    },
    {
     "name": "stderr",
     "output_type": "stream",
     "text": [
      "100%|██████████| 51/51 [01:10<00:00,  1.38s/it]\n"
     ]
    },
    {
     "name": "stdout",
     "output_type": "stream",
     "text": [
      "val_Acc:\u001b[1;32m78.753%\u001b[0m\n",
      "Best_val:\u001b[1;32m[80.599%]\u001b[0m\n",
      "\u001b[1;32m[Train Epoch:[32]HAM10000 ==> Training]\u001b[0m ...\n"
     ]
    },
    {
     "name": "stderr",
     "output_type": "stream",
     "text": [
      " 50%|█████     | 24/48 [04:02<03:39,  9.16s/it]"
     ]
    },
    {
     "name": "stdout",
     "output_type": "stream",
     "text": [
      "[24/48] Loss0.17123,ACC:0.73487\n"
     ]
    },
    {
     "name": "stderr",
     "output_type": "stream",
     "text": [
      "100%|██████████| 48/48 [07:37<00:00,  9.54s/it]\n"
     ]
    },
    {
     "name": "stdout",
     "output_type": "stream",
     "text": [
      "Train Epoch:[32] Loss:0.18139,Acc:0.73159,Best_train:0.73159\n",
      "\u001b[35mHAM10000 ==> val ...\u001b[0m\n"
     ]
    },
    {
     "name": "stderr",
     "output_type": "stream",
     "text": [
      "100%|██████████| 51/51 [00:58<00:00,  1.16s/it]\n"
     ]
    },
    {
     "name": "stdout",
     "output_type": "stream",
     "text": [
      "val_Acc:\u001b[1;32m78.903%\u001b[0m\n",
      "Best_val:\u001b[1;32m[80.599%]\u001b[0m\n",
      "\u001b[1;32m[Train Epoch:[33]HAM10000 ==> Training]\u001b[0m ...\n"
     ]
    },
    {
     "name": "stderr",
     "output_type": "stream",
     "text": [
      " 50%|█████     | 24/48 [03:51<03:22,  8.43s/it]"
     ]
    },
    {
     "name": "stdout",
     "output_type": "stream",
     "text": [
      "[24/48] Loss0.17452,ACC:0.73313\n"
     ]
    },
    {
     "name": "stderr",
     "output_type": "stream",
     "text": [
      "100%|██████████| 48/48 [07:10<00:00,  8.97s/it]\n"
     ]
    },
    {
     "name": "stdout",
     "output_type": "stream",
     "text": [
      "Train Epoch:[33] Loss:0.17721,Acc:0.73633,Best_train:0.73633\n",
      "\u001b[35mHAM10000 ==> val ...\u001b[0m\n"
     ]
    },
    {
     "name": "stderr",
     "output_type": "stream",
     "text": [
      "100%|██████████| 51/51 [00:56<00:00,  1.11s/it]\n"
     ]
    },
    {
     "name": "stdout",
     "output_type": "stream",
     "text": [
      "val_Acc:\u001b[1;32m82.244%\u001b[0m\n",
      "Best_val:\u001b[1;32m[82.244%]\u001b[0m\n",
      "\u001b[1;32m[Train Epoch:[34]HAM10000 ==> Training]\u001b[0m ...\n"
     ]
    },
    {
     "name": "stderr",
     "output_type": "stream",
     "text": [
      " 50%|█████     | 24/48 [03:41<03:20,  8.37s/it]"
     ]
    },
    {
     "name": "stdout",
     "output_type": "stream",
     "text": [
      "[24/48] Loss0.15943,ACC:0.73438\n"
     ]
    },
    {
     "name": "stderr",
     "output_type": "stream",
     "text": [
      "100%|██████████| 48/48 [07:00<00:00,  8.76s/it]\n"
     ]
    },
    {
     "name": "stdout",
     "output_type": "stream",
     "text": [
      "Train Epoch:[34] Loss:0.17631,Acc:0.73620,Best_train:0.73633\n",
      "\u001b[35mHAM10000 ==> val ...\u001b[0m\n"
     ]
    },
    {
     "name": "stderr",
     "output_type": "stream",
     "text": [
      "100%|██████████| 51/51 [00:56<00:00,  1.11s/it]\n"
     ]
    },
    {
     "name": "stdout",
     "output_type": "stream",
     "text": [
      "val_Acc:\u001b[1;32m80.998%\u001b[0m\n",
      "Best_val:\u001b[1;32m[82.244%]\u001b[0m\n",
      "\u001b[1;32m[Train Epoch:[35]HAM10000 ==> Training]\u001b[0m ...\n"
     ]
    },
    {
     "name": "stderr",
     "output_type": "stream",
     "text": [
      " 50%|█████     | 24/48 [03:44<03:23,  8.48s/it]"
     ]
    },
    {
     "name": "stdout",
     "output_type": "stream",
     "text": [
      "[24/48] Loss0.16385,ACC:0.74975\n"
     ]
    },
    {
     "name": "stderr",
     "output_type": "stream",
     "text": [
      "100%|██████████| 48/48 [07:04<00:00,  8.85s/it]\n"
     ]
    },
    {
     "name": "stdout",
     "output_type": "stream",
     "text": [
      "Train Epoch:[35] Loss:0.17434,Acc:0.74332,Best_train:0.74332\n",
      "\u001b[35mHAM10000 ==> val ...\u001b[0m\n"
     ]
    },
    {
     "name": "stderr",
     "output_type": "stream",
     "text": [
      "100%|██████████| 51/51 [00:55<00:00,  1.09s/it]\n"
     ]
    },
    {
     "name": "stdout",
     "output_type": "stream",
     "text": [
      "val_Acc:\u001b[1;32m81.297%\u001b[0m\n",
      "Best_val:\u001b[1;32m[82.244%]\u001b[0m\n",
      "\u001b[1;32m[Train Epoch:[36]HAM10000 ==> Training]\u001b[0m ...\n"
     ]
    },
    {
     "name": "stderr",
     "output_type": "stream",
     "text": [
      " 50%|█████     | 24/48 [03:43<03:26,  8.59s/it]"
     ]
    },
    {
     "name": "stdout",
     "output_type": "stream",
     "text": [
      "[24/48] Loss0.17068,ACC:0.73562\n"
     ]
    },
    {
     "name": "stderr",
     "output_type": "stream",
     "text": [
      "100%|██████████| 48/48 [07:03<00:00,  8.82s/it]\n"
     ]
    },
    {
     "name": "stdout",
     "output_type": "stream",
     "text": [
      "Train Epoch:[36] Loss:0.17533,Acc:0.73908,Best_train:0.74332\n",
      "\u001b[35mHAM10000 ==> val ...\u001b[0m\n"
     ]
    },
    {
     "name": "stderr",
     "output_type": "stream",
     "text": [
      "100%|██████████| 51/51 [00:56<00:00,  1.11s/it]\n"
     ]
    },
    {
     "name": "stdout",
     "output_type": "stream",
     "text": [
      "val_Acc:\u001b[1;32m81.546%\u001b[0m\n",
      "Best_val:\u001b[1;32m[82.244%]\u001b[0m\n",
      "\u001b[1;32m[Train Epoch:[37]HAM10000 ==> Training]\u001b[0m ...\n"
     ]
    },
    {
     "name": "stderr",
     "output_type": "stream",
     "text": [
      " 50%|█████     | 24/48 [03:43<03:21,  8.41s/it]"
     ]
    },
    {
     "name": "stdout",
     "output_type": "stream",
     "text": [
      "[24/48] Loss0.15955,ACC:0.73661\n"
     ]
    },
    {
     "name": "stderr",
     "output_type": "stream",
     "text": [
      "100%|██████████| 48/48 [07:02<00:00,  8.80s/it]\n"
     ]
    },
    {
     "name": "stdout",
     "output_type": "stream",
     "text": [
      "Train Epoch:[37] Loss:0.17936,Acc:0.73159,Best_train:0.74332\n",
      "\u001b[35mHAM10000 ==> val ...\u001b[0m\n"
     ]
    },
    {
     "name": "stderr",
     "output_type": "stream",
     "text": [
      "100%|██████████| 51/51 [00:57<00:00,  1.13s/it]\n"
     ]
    },
    {
     "name": "stdout",
     "output_type": "stream",
     "text": [
      "val_Acc:\u001b[1;32m81.247%\u001b[0m\n",
      "Best_val:\u001b[1;32m[82.244%]\u001b[0m\n",
      "\u001b[1;32m[Train Epoch:[38]HAM10000 ==> Training]\u001b[0m ...\n"
     ]
    },
    {
     "name": "stderr",
     "output_type": "stream",
     "text": [
      " 50%|█████     | 24/48 [03:43<03:24,  8.53s/it]"
     ]
    },
    {
     "name": "stdout",
     "output_type": "stream",
     "text": [
      "[24/48] Loss0.17474,ACC:0.73338\n"
     ]
    },
    {
     "name": "stderr",
     "output_type": "stream",
     "text": [
      "100%|██████████| 48/48 [07:03<00:00,  8.82s/it]\n"
     ]
    },
    {
     "name": "stdout",
     "output_type": "stream",
     "text": [
      "Train Epoch:[38] Loss:0.18057,Acc:0.73021,Best_train:0.74332\n",
      "\u001b[35mHAM10000 ==> val ...\u001b[0m\n"
     ]
    },
    {
     "name": "stderr",
     "output_type": "stream",
     "text": [
      "100%|██████████| 51/51 [00:57<00:00,  1.12s/it]\n"
     ]
    },
    {
     "name": "stdout",
     "output_type": "stream",
     "text": [
      "val_Acc:\u001b[1;32m80.299%\u001b[0m\n",
      "Best_val:\u001b[1;32m[82.244%]\u001b[0m\n",
      "\u001b[1;32m[Train Epoch:[39]HAM10000 ==> Training]\u001b[0m ...\n"
     ]
    },
    {
     "name": "stderr",
     "output_type": "stream",
     "text": [
      " 50%|█████     | 24/48 [03:43<03:23,  8.50s/it]"
     ]
    },
    {
     "name": "stdout",
     "output_type": "stream",
     "text": [
      "[24/48] Loss0.21590,ACC:0.74330\n"
     ]
    },
    {
     "name": "stderr",
     "output_type": "stream",
     "text": [
      "100%|██████████| 48/48 [07:04<00:00,  8.84s/it]\n"
     ]
    },
    {
     "name": "stdout",
     "output_type": "stream",
     "text": [
      "Train Epoch:[39] Loss:0.18207,Acc:0.73333,Best_train:0.74332\n",
      "\u001b[35mHAM10000 ==> val ...\u001b[0m\n"
     ]
    },
    {
     "name": "stderr",
     "output_type": "stream",
     "text": [
      "100%|██████████| 51/51 [00:56<00:00,  1.10s/it]\n"
     ]
    },
    {
     "name": "stdout",
     "output_type": "stream",
     "text": [
      "val_Acc:\u001b[1;32m80.249%\u001b[0m\n",
      "Best_val:\u001b[1;32m[82.244%]\u001b[0m\n",
      "\u001b[1;32m[Train Epoch:[40]HAM10000 ==> Training]\u001b[0m ...\n"
     ]
    },
    {
     "name": "stderr",
     "output_type": "stream",
     "text": [
      " 50%|█████     | 24/48 [03:43<03:24,  8.51s/it]"
     ]
    },
    {
     "name": "stdout",
     "output_type": "stream",
     "text": [
      "[24/48] Loss0.17673,ACC:0.72842\n"
     ]
    },
    {
     "name": "stderr",
     "output_type": "stream",
     "text": [
      "100%|██████████| 48/48 [07:03<00:00,  8.82s/it]\n"
     ]
    },
    {
     "name": "stdout",
     "output_type": "stream",
     "text": [
      "Train Epoch:[40] Loss:0.18018,Acc:0.73283,Best_train:0.74332\n",
      "\u001b[35mHAM10000 ==> val ...\u001b[0m\n"
     ]
    },
    {
     "name": "stderr",
     "output_type": "stream",
     "text": [
      "100%|██████████| 51/51 [00:57<00:00,  1.13s/it]\n"
     ]
    },
    {
     "name": "stdout",
     "output_type": "stream",
     "text": [
      "val_Acc:\u001b[1;32m81.446%\u001b[0m\n",
      "Best_val:\u001b[1;32m[82.244%]\u001b[0m\n",
      "\u001b[1;32m[Train Epoch:[41]HAM10000 ==> Training]\u001b[0m ...\n"
     ]
    },
    {
     "name": "stderr",
     "output_type": "stream",
     "text": [
      " 50%|█████     | 24/48 [03:43<03:22,  8.42s/it]"
     ]
    },
    {
     "name": "stdout",
     "output_type": "stream",
     "text": [
      "[24/48] Loss0.19453,ACC:0.73189\n"
     ]
    },
    {
     "name": "stderr",
     "output_type": "stream",
     "text": [
      "100%|██████████| 48/48 [07:03<00:00,  8.81s/it]\n"
     ]
    },
    {
     "name": "stdout",
     "output_type": "stream",
     "text": [
      "Train Epoch:[41] Loss:0.18013,Acc:0.73246,Best_train:0.74332\n",
      "\u001b[35mHAM10000 ==> val ...\u001b[0m\n"
     ]
    },
    {
     "name": "stderr",
     "output_type": "stream",
     "text": [
      "100%|██████████| 51/51 [00:56<00:00,  1.11s/it]\n"
     ]
    },
    {
     "name": "stdout",
     "output_type": "stream",
     "text": [
      "val_Acc:\u001b[1;32m80.449%\u001b[0m\n",
      "Best_val:\u001b[1;32m[82.244%]\u001b[0m\n",
      "\u001b[1;32m[Train Epoch:[42]HAM10000 ==> Training]\u001b[0m ...\n"
     ]
    },
    {
     "name": "stderr",
     "output_type": "stream",
     "text": [
      " 50%|█████     | 24/48 [03:42<03:21,  8.41s/it]"
     ]
    },
    {
     "name": "stdout",
     "output_type": "stream",
     "text": [
      "[24/48] Loss0.16679,ACC:0.73834\n"
     ]
    },
    {
     "name": "stderr",
     "output_type": "stream",
     "text": [
      "100%|██████████| 48/48 [07:03<00:00,  8.83s/it]\n"
     ]
    },
    {
     "name": "stdout",
     "output_type": "stream",
     "text": [
      "Train Epoch:[42] Loss:0.17748,Acc:0.73620,Best_train:0.74332\n",
      "\u001b[35mHAM10000 ==> val ...\u001b[0m\n"
     ]
    },
    {
     "name": "stderr",
     "output_type": "stream",
     "text": [
      "100%|██████████| 51/51 [00:57<00:00,  1.12s/it]\n"
     ]
    },
    {
     "name": "stdout",
     "output_type": "stream",
     "text": [
      "val_Acc:\u001b[1;32m80.449%\u001b[0m\n",
      "Best_val:\u001b[1;32m[82.244%]\u001b[0m\n",
      "\u001b[1;32m[Train Epoch:[43]HAM10000 ==> Training]\u001b[0m ...\n"
     ]
    },
    {
     "name": "stderr",
     "output_type": "stream",
     "text": [
      " 50%|█████     | 24/48 [03:43<03:23,  8.48s/it]"
     ]
    },
    {
     "name": "stdout",
     "output_type": "stream",
     "text": [
      "[24/48] Loss0.18608,ACC:0.74430\n"
     ]
    },
    {
     "name": "stderr",
     "output_type": "stream",
     "text": [
      "100%|██████████| 48/48 [07:03<00:00,  8.83s/it]\n"
     ]
    },
    {
     "name": "stdout",
     "output_type": "stream",
     "text": [
      "Train Epoch:[43] Loss:0.17514,Acc:0.73895,Best_train:0.74332\n",
      "\u001b[35mHAM10000 ==> val ...\u001b[0m\n"
     ]
    },
    {
     "name": "stderr",
     "output_type": "stream",
     "text": [
      "100%|██████████| 51/51 [00:56<00:00,  1.10s/it]\n"
     ]
    },
    {
     "name": "stdout",
     "output_type": "stream",
     "text": [
      "val_Acc:\u001b[1;32m81.746%\u001b[0m\n",
      "Best_val:\u001b[1;32m[82.244%]\u001b[0m\n",
      "\u001b[1;32m[Train Epoch:[44]HAM10000 ==> Training]\u001b[0m ...\n"
     ]
    },
    {
     "name": "stderr",
     "output_type": "stream",
     "text": [
      " 50%|█████     | 24/48 [03:44<03:24,  8.51s/it]"
     ]
    },
    {
     "name": "stdout",
     "output_type": "stream",
     "text": [
      "[24/48] Loss0.17357,ACC:0.74405\n"
     ]
    },
    {
     "name": "stderr",
     "output_type": "stream",
     "text": [
      "100%|██████████| 48/48 [07:04<00:00,  8.85s/it]\n"
     ]
    },
    {
     "name": "stdout",
     "output_type": "stream",
     "text": [
      "Train Epoch:[44] Loss:0.17262,Acc:0.73770,Best_train:0.74332\n",
      "\u001b[35mHAM10000 ==> val ...\u001b[0m\n"
     ]
    },
    {
     "name": "stderr",
     "output_type": "stream",
     "text": [
      "100%|██████████| 51/51 [00:57<00:00,  1.12s/it]\n"
     ]
    },
    {
     "name": "stdout",
     "output_type": "stream",
     "text": [
      "val_Acc:\u001b[1;32m82.793%\u001b[0m\n",
      "Best_val:\u001b[1;32m[82.793%]\u001b[0m\n",
      "\u001b[1;32m[Train Epoch:[45]HAM10000 ==> Training]\u001b[0m ...\n"
     ]
    },
    {
     "name": "stderr",
     "output_type": "stream",
     "text": [
      " 50%|█████     | 24/48 [03:44<03:24,  8.52s/it]"
     ]
    },
    {
     "name": "stdout",
     "output_type": "stream",
     "text": [
      "[24/48] Loss0.15478,ACC:0.75248\n"
     ]
    },
    {
     "name": "stderr",
     "output_type": "stream",
     "text": [
      "100%|██████████| 48/48 [07:05<00:00,  8.86s/it]\n"
     ]
    },
    {
     "name": "stdout",
     "output_type": "stream",
     "text": [
      "Train Epoch:[45] Loss:0.17117,Acc:0.74457,Best_train:0.74457\n",
      "\u001b[35mHAM10000 ==> val ...\u001b[0m\n"
     ]
    },
    {
     "name": "stderr",
     "output_type": "stream",
     "text": [
      "100%|██████████| 51/51 [00:56<00:00,  1.11s/it]\n"
     ]
    },
    {
     "name": "stdout",
     "output_type": "stream",
     "text": [
      "val_Acc:\u001b[1;32m82.095%\u001b[0m\n",
      "Best_val:\u001b[1;32m[82.793%]\u001b[0m\n",
      "\u001b[1;32m[Train Epoch:[46]HAM10000 ==> Training]\u001b[0m ...\n"
     ]
    },
    {
     "name": "stderr",
     "output_type": "stream",
     "text": [
      " 50%|█████     | 24/48 [03:44<03:23,  8.46s/it]"
     ]
    },
    {
     "name": "stdout",
     "output_type": "stream",
     "text": [
      "[24/48] Loss0.15541,ACC:0.73537\n"
     ]
    },
    {
     "name": "stderr",
     "output_type": "stream",
     "text": [
      "100%|██████████| 48/48 [07:10<00:00,  8.96s/it]\n"
     ]
    },
    {
     "name": "stdout",
     "output_type": "stream",
     "text": [
      "Train Epoch:[46] Loss:0.17366,Acc:0.73596,Best_train:0.74457\n",
      "\u001b[35mHAM10000 ==> val ...\u001b[0m\n"
     ]
    },
    {
     "name": "stderr",
     "output_type": "stream",
     "text": [
      "100%|██████████| 51/51 [01:02<00:00,  1.23s/it]\n"
     ]
    },
    {
     "name": "stdout",
     "output_type": "stream",
     "text": [
      "val_Acc:\u001b[1;32m81.995%\u001b[0m\n",
      "Best_val:\u001b[1;32m[82.793%]\u001b[0m\n",
      "\u001b[1;32m[Train Epoch:[47]HAM10000 ==> Training]\u001b[0m ...\n"
     ]
    },
    {
     "name": "stderr",
     "output_type": "stream",
     "text": [
      " 50%|█████     | 24/48 [04:17<03:38,  9.12s/it]"
     ]
    },
    {
     "name": "stdout",
     "output_type": "stream",
     "text": [
      "[24/48] Loss0.17387,ACC:0.73735\n"
     ]
    },
    {
     "name": "stderr",
     "output_type": "stream",
     "text": [
      "100%|██████████| 48/48 [07:35<00:00,  9.50s/it]\n"
     ]
    },
    {
     "name": "stdout",
     "output_type": "stream",
     "text": [
      "Train Epoch:[47] Loss:0.17407,Acc:0.73970,Best_train:0.74457\n",
      "\u001b[35mHAM10000 ==> val ...\u001b[0m\n"
     ]
    },
    {
     "name": "stderr",
     "output_type": "stream",
     "text": [
      "100%|██████████| 51/51 [00:56<00:00,  1.11s/it]\n"
     ]
    },
    {
     "name": "stdout",
     "output_type": "stream",
     "text": [
      "val_Acc:\u001b[1;32m82.394%\u001b[0m\n",
      "Best_val:\u001b[1;32m[82.793%]\u001b[0m\n",
      "\u001b[1;32m[Train Epoch:[48]HAM10000 ==> Training]\u001b[0m ...\n"
     ]
    },
    {
     "name": "stderr",
     "output_type": "stream",
     "text": [
      " 50%|█████     | 24/48 [03:44<03:25,  8.57s/it]"
     ]
    },
    {
     "name": "stdout",
     "output_type": "stream",
     "text": [
      "[24/48] Loss0.18288,ACC:0.73810\n"
     ]
    },
    {
     "name": "stderr",
     "output_type": "stream",
     "text": [
      "100%|██████████| 48/48 [07:03<00:00,  8.83s/it]\n"
     ]
    },
    {
     "name": "stdout",
     "output_type": "stream",
     "text": [
      "Train Epoch:[48] Loss:0.17665,Acc:0.73708,Best_train:0.74457\n",
      "\u001b[35mHAM10000 ==> val ...\u001b[0m\n"
     ]
    },
    {
     "name": "stderr",
     "output_type": "stream",
     "text": [
      "100%|██████████| 51/51 [00:57<00:00,  1.12s/it]\n"
     ]
    },
    {
     "name": "stdout",
     "output_type": "stream",
     "text": [
      "val_Acc:\u001b[1;32m80.748%\u001b[0m\n",
      "Best_val:\u001b[1;32m[82.793%]\u001b[0m\n",
      "\u001b[1;32m[Train Epoch:[49]HAM10000 ==> Training]\u001b[0m ...\n"
     ]
    },
    {
     "name": "stderr",
     "output_type": "stream",
     "text": [
      " 50%|█████     | 24/48 [03:43<03:22,  8.46s/it]"
     ]
    },
    {
     "name": "stdout",
     "output_type": "stream",
     "text": [
      "[24/48] Loss0.16299,ACC:0.72842\n"
     ]
    },
    {
     "name": "stderr",
     "output_type": "stream",
     "text": [
      "100%|██████████| 48/48 [07:03<00:00,  8.82s/it]\n"
     ]
    },
    {
     "name": "stdout",
     "output_type": "stream",
     "text": [
      "Train Epoch:[49] Loss:0.17819,Acc:0.73446,Best_train:0.74457\n",
      "\u001b[35mHAM10000 ==> val ...\u001b[0m\n"
     ]
    },
    {
     "name": "stderr",
     "output_type": "stream",
     "text": [
      "100%|██████████| 51/51 [00:57<00:00,  1.12s/it]\n"
     ]
    },
    {
     "name": "stdout",
     "output_type": "stream",
     "text": [
      "val_Acc:\u001b[1;32m80.648%\u001b[0m\n",
      "Best_val:\u001b[1;32m[82.793%]\u001b[0m\n",
      "\u001b[1;32m[Train Epoch:[50]HAM10000 ==> Training]\u001b[0m ...\n"
     ]
    },
    {
     "name": "stderr",
     "output_type": "stream",
     "text": [
      " 50%|█████     | 24/48 [03:44<03:25,  8.55s/it]"
     ]
    },
    {
     "name": "stdout",
     "output_type": "stream",
     "text": [
      "[24/48] Loss0.16475,ACC:0.73214\n"
     ]
    },
    {
     "name": "stderr",
     "output_type": "stream",
     "text": [
      "100%|██████████| 48/48 [07:04<00:00,  8.84s/it]\n"
     ]
    },
    {
     "name": "stdout",
     "output_type": "stream",
     "text": [
      "Train Epoch:[50] Loss:0.18123,Acc:0.72734,Best_train:0.74457\n",
      "\u001b[35mHAM10000 ==> val ...\u001b[0m\n"
     ]
    },
    {
     "name": "stderr",
     "output_type": "stream",
     "text": [
      "100%|██████████| 51/51 [00:56<00:00,  1.11s/it]\n"
     ]
    },
    {
     "name": "stdout",
     "output_type": "stream",
     "text": [
      "val_Acc:\u001b[1;32m78.853%\u001b[0m\n",
      "Best_val:\u001b[1;32m[82.793%]\u001b[0m\n",
      "\u001b[1;32m[Train Epoch:[51]HAM10000 ==> Training]\u001b[0m ...\n"
     ]
    },
    {
     "name": "stderr",
     "output_type": "stream",
     "text": [
      " 50%|█████     | 24/48 [03:43<03:23,  8.48s/it]"
     ]
    },
    {
     "name": "stdout",
     "output_type": "stream",
     "text": [
      "[24/48] Loss0.15967,ACC:0.72545\n"
     ]
    },
    {
     "name": "stderr",
     "output_type": "stream",
     "text": [
      "100%|██████████| 48/48 [07:03<00:00,  8.83s/it]\n"
     ]
    },
    {
     "name": "stdout",
     "output_type": "stream",
     "text": [
      "Train Epoch:[51] Loss:0.17957,Acc:0.73670,Best_train:0.74457\n",
      "\u001b[35mHAM10000 ==> val ...\u001b[0m\n"
     ]
    },
    {
     "name": "stderr",
     "output_type": "stream",
     "text": [
      "100%|██████████| 51/51 [00:57<00:00,  1.12s/it]\n"
     ]
    },
    {
     "name": "stdout",
     "output_type": "stream",
     "text": [
      "val_Acc:\u001b[1;32m84.04%\u001b[0m\n",
      "Best_val:\u001b[1;32m[84.04%]\u001b[0m\n",
      "\u001b[1;32m[Train Epoch:[52]HAM10000 ==> Training]\u001b[0m ...\n"
     ]
    },
    {
     "name": "stderr",
     "output_type": "stream",
     "text": [
      " 50%|█████     | 24/48 [03:43<03:23,  8.48s/it]"
     ]
    },
    {
     "name": "stdout",
     "output_type": "stream",
     "text": [
      "[24/48] Loss0.16786,ACC:0.74529\n"
     ]
    },
    {
     "name": "stderr",
     "output_type": "stream",
     "text": [
      "100%|██████████| 48/48 [07:02<00:00,  8.80s/it]\n"
     ]
    },
    {
     "name": "stdout",
     "output_type": "stream",
     "text": [
      "Train Epoch:[52] Loss:0.17510,Acc:0.74282,Best_train:0.74457\n",
      "\u001b[35mHAM10000 ==> val ...\u001b[0m\n"
     ]
    },
    {
     "name": "stderr",
     "output_type": "stream",
     "text": [
      "100%|██████████| 51/51 [00:56<00:00,  1.11s/it]\n"
     ]
    },
    {
     "name": "stdout",
     "output_type": "stream",
     "text": [
      "val_Acc:\u001b[1;32m83.042%\u001b[0m\n",
      "Best_val:\u001b[1;32m[84.04%]\u001b[0m\n",
      "\u001b[1;32m[Train Epoch:[53]HAM10000 ==> Training]\u001b[0m ...\n"
     ]
    },
    {
     "name": "stderr",
     "output_type": "stream",
     "text": [
      " 50%|█████     | 24/48 [03:42<03:22,  8.43s/it]"
     ]
    },
    {
     "name": "stdout",
     "output_type": "stream",
     "text": [
      "[24/48] Loss0.16372,ACC:0.74554\n"
     ]
    },
    {
     "name": "stderr",
     "output_type": "stream",
     "text": [
      "100%|██████████| 48/48 [07:03<00:00,  8.82s/it]\n"
     ]
    },
    {
     "name": "stdout",
     "output_type": "stream",
     "text": [
      "Train Epoch:[53] Loss:0.17448,Acc:0.74220,Best_train:0.74457\n",
      "\u001b[35mHAM10000 ==> val ...\u001b[0m\n"
     ]
    },
    {
     "name": "stderr",
     "output_type": "stream",
     "text": [
      "100%|██████████| 51/51 [00:56<00:00,  1.11s/it]\n"
     ]
    },
    {
     "name": "stdout",
     "output_type": "stream",
     "text": [
      "val_Acc:\u001b[1;32m81.845%\u001b[0m\n",
      "Best_val:\u001b[1;32m[84.04%]\u001b[0m\n",
      "\u001b[1;32m[Train Epoch:[54]HAM10000 ==> Training]\u001b[0m ...\n"
     ]
    },
    {
     "name": "stderr",
     "output_type": "stream",
     "text": [
      " 50%|█████     | 24/48 [03:43<03:24,  8.50s/it]"
     ]
    },
    {
     "name": "stdout",
     "output_type": "stream",
     "text": [
      "[24/48] Loss0.18683,ACC:0.73710\n"
     ]
    },
    {
     "name": "stderr",
     "output_type": "stream",
     "text": [
      "100%|██████████| 48/48 [07:02<00:00,  8.80s/it]\n"
     ]
    },
    {
     "name": "stdout",
     "output_type": "stream",
     "text": [
      "Train Epoch:[54] Loss:0.17126,Acc:0.74232,Best_train:0.74457\n",
      "\u001b[35mHAM10000 ==> val ...\u001b[0m\n"
     ]
    },
    {
     "name": "stderr",
     "output_type": "stream",
     "text": [
      "100%|██████████| 51/51 [00:57<00:00,  1.13s/it]\n"
     ]
    },
    {
     "name": "stdout",
     "output_type": "stream",
     "text": [
      "val_Acc:\u001b[1;32m81.796%\u001b[0m\n",
      "Best_val:\u001b[1;32m[84.04%]\u001b[0m\n",
      "\u001b[1;32m[Train Epoch:[55]HAM10000 ==> Training]\u001b[0m ...\n"
     ]
    },
    {
     "name": "stderr",
     "output_type": "stream",
     "text": [
      " 50%|█████     | 24/48 [03:44<03:24,  8.53s/it]"
     ]
    },
    {
     "name": "stdout",
     "output_type": "stream",
     "text": [
      "[24/48] Loss0.20066,ACC:0.73388\n"
     ]
    },
    {
     "name": "stderr",
     "output_type": "stream",
     "text": [
      "100%|██████████| 48/48 [07:04<00:00,  8.84s/it]\n"
     ]
    },
    {
     "name": "stdout",
     "output_type": "stream",
     "text": [
      "Train Epoch:[55] Loss:0.16966,Acc:0.74170,Best_train:0.74457\n",
      "\u001b[35mHAM10000 ==> val ...\u001b[0m\n"
     ]
    },
    {
     "name": "stderr",
     "output_type": "stream",
     "text": [
      "100%|██████████| 51/51 [00:57<00:00,  1.13s/it]\n"
     ]
    },
    {
     "name": "stdout",
     "output_type": "stream",
     "text": [
      "val_Acc:\u001b[1;32m81.945%\u001b[0m\n",
      "Best_val:\u001b[1;32m[84.04%]\u001b[0m\n",
      "\u001b[1;32m[Train Epoch:[56]HAM10000 ==> Training]\u001b[0m ...\n"
     ]
    },
    {
     "name": "stderr",
     "output_type": "stream",
     "text": [
      " 50%|█████     | 24/48 [03:43<03:22,  8.43s/it]"
     ]
    },
    {
     "name": "stdout",
     "output_type": "stream",
     "text": [
      "[24/48] Loss0.15791,ACC:0.74603\n"
     ]
    },
    {
     "name": "stderr",
     "output_type": "stream",
     "text": [
      "100%|██████████| 48/48 [07:02<00:00,  8.81s/it]\n"
     ]
    },
    {
     "name": "stdout",
     "output_type": "stream",
     "text": [
      "Train Epoch:[56] Loss:0.16821,Acc:0.74981,Best_train:0.74981\n",
      "\u001b[35mHAM10000 ==> val ...\u001b[0m\n"
     ]
    },
    {
     "name": "stderr",
     "output_type": "stream",
     "text": [
      "100%|██████████| 51/51 [00:56<00:00,  1.11s/it]\n"
     ]
    },
    {
     "name": "stdout",
     "output_type": "stream",
     "text": [
      "val_Acc:\u001b[1;32m82.544%\u001b[0m\n",
      "Best_val:\u001b[1;32m[84.04%]\u001b[0m\n",
      "\u001b[1;32m[Train Epoch:[57]HAM10000 ==> Training]\u001b[0m ...\n"
     ]
    },
    {
     "name": "stderr",
     "output_type": "stream",
     "text": [
      " 50%|█████     | 24/48 [03:44<03:25,  8.54s/it]"
     ]
    },
    {
     "name": "stdout",
     "output_type": "stream",
     "text": [
      "[24/48] Loss0.17426,ACC:0.73834\n"
     ]
    },
    {
     "name": "stderr",
     "output_type": "stream",
     "text": [
      "100%|██████████| 48/48 [07:05<00:00,  8.87s/it]\n"
     ]
    },
    {
     "name": "stdout",
     "output_type": "stream",
     "text": [
      "Train Epoch:[57] Loss:0.17166,Acc:0.74082,Best_train:0.74981\n",
      "\u001b[35mHAM10000 ==> val ...\u001b[0m\n"
     ]
    },
    {
     "name": "stderr",
     "output_type": "stream",
     "text": [
      "100%|██████████| 51/51 [00:57<00:00,  1.12s/it]\n"
     ]
    },
    {
     "name": "stdout",
     "output_type": "stream",
     "text": [
      "val_Acc:\u001b[1;32m81.147%\u001b[0m\n",
      "Best_val:\u001b[1;32m[84.04%]\u001b[0m\n",
      "\u001b[1;32m[Train Epoch:[58]HAM10000 ==> Training]\u001b[0m ...\n"
     ]
    },
    {
     "name": "stderr",
     "output_type": "stream",
     "text": [
      " 50%|█████     | 24/48 [03:41<03:22,  8.43s/it]"
     ]
    },
    {
     "name": "stdout",
     "output_type": "stream",
     "text": [
      "[24/48] Loss0.19213,ACC:0.73760\n"
     ]
    },
    {
     "name": "stderr",
     "output_type": "stream",
     "text": [
      "100%|██████████| 48/48 [07:00<00:00,  8.75s/it]\n"
     ]
    },
    {
     "name": "stdout",
     "output_type": "stream",
     "text": [
      "Train Epoch:[58] Loss:0.17177,Acc:0.74195,Best_train:0.74981\n",
      "\u001b[35mHAM10000 ==> val ...\u001b[0m\n"
     ]
    },
    {
     "name": "stderr",
     "output_type": "stream",
     "text": [
      "100%|██████████| 51/51 [00:56<00:00,  1.12s/it]\n"
     ]
    },
    {
     "name": "stdout",
     "output_type": "stream",
     "text": [
      "val_Acc:\u001b[1;32m82.893%\u001b[0m\n",
      "Best_val:\u001b[1;32m[84.04%]\u001b[0m\n",
      "\u001b[1;32m[Train Epoch:[59]HAM10000 ==> Training]\u001b[0m ...\n"
     ]
    },
    {
     "name": "stderr",
     "output_type": "stream",
     "text": [
      " 50%|█████     | 24/48 [03:44<03:22,  8.46s/it]"
     ]
    },
    {
     "name": "stdout",
     "output_type": "stream",
     "text": [
      "[24/48] Loss0.16269,ACC:0.74702\n"
     ]
    },
    {
     "name": "stderr",
     "output_type": "stream",
     "text": [
      "100%|██████████| 48/48 [07:03<00:00,  8.82s/it]\n"
     ]
    },
    {
     "name": "stdout",
     "output_type": "stream",
     "text": [
      "Train Epoch:[59] Loss:0.17388,Acc:0.74395,Best_train:0.74981\n",
      "\u001b[35mHAM10000 ==> val ...\u001b[0m\n"
     ]
    },
    {
     "name": "stderr",
     "output_type": "stream",
     "text": [
      "100%|██████████| 51/51 [00:56<00:00,  1.11s/it]\n"
     ]
    },
    {
     "name": "stdout",
     "output_type": "stream",
     "text": [
      "val_Acc:\u001b[1;32m83.84%\u001b[0m\n",
      "Best_val:\u001b[1;32m[84.04%]\u001b[0m\n",
      "\u001b[1;32m[Train Epoch:[60]HAM10000 ==> Training]\u001b[0m ...\n"
     ]
    },
    {
     "name": "stderr",
     "output_type": "stream",
     "text": [
      " 50%|█████     | 24/48 [03:43<03:23,  8.50s/it]"
     ]
    },
    {
     "name": "stdout",
     "output_type": "stream",
     "text": [
      "[24/48] Loss0.18806,ACC:0.73710\n"
     ]
    },
    {
     "name": "stderr",
     "output_type": "stream",
     "text": [
      "100%|██████████| 48/48 [07:02<00:00,  8.81s/it]\n"
     ]
    },
    {
     "name": "stdout",
     "output_type": "stream",
     "text": [
      "Train Epoch:[60] Loss:0.17837,Acc:0.73833,Best_train:0.74981\n",
      "\u001b[35mHAM10000 ==> val ...\u001b[0m\n"
     ]
    },
    {
     "name": "stderr",
     "output_type": "stream",
     "text": [
      "100%|██████████| 51/51 [00:56<00:00,  1.11s/it]\n"
     ]
    },
    {
     "name": "stdout",
     "output_type": "stream",
     "text": [
      "val_Acc:\u001b[1;32m78.404%\u001b[0m\n",
      "Best_val:\u001b[1;32m[84.04%]\u001b[0m\n",
      "\u001b[1;32m[Train Epoch:[61]HAM10000 ==> Training]\u001b[0m ...\n"
     ]
    },
    {
     "name": "stderr",
     "output_type": "stream",
     "text": [
      " 50%|█████     | 24/48 [03:42<03:24,  8.50s/it]"
     ]
    },
    {
     "name": "stdout",
     "output_type": "stream",
     "text": [
      "[24/48] Loss0.18039,ACC:0.74132\n"
     ]
    },
    {
     "name": "stderr",
     "output_type": "stream",
     "text": [
      "100%|██████████| 48/48 [07:03<00:00,  8.83s/it]\n"
     ]
    },
    {
     "name": "stdout",
     "output_type": "stream",
     "text": [
      "Train Epoch:[61] Loss:0.17457,Acc:0.73708,Best_train:0.74981\n",
      "\u001b[35mHAM10000 ==> val ...\u001b[0m\n"
     ]
    },
    {
     "name": "stderr",
     "output_type": "stream",
     "text": [
      "100%|██████████| 51/51 [00:56<00:00,  1.11s/it]\n"
     ]
    },
    {
     "name": "stdout",
     "output_type": "stream",
     "text": [
      "val_Acc:\u001b[1;32m81.047%\u001b[0m\n",
      "Best_val:\u001b[1;32m[84.04%]\u001b[0m\n",
      "\u001b[1;32m[Train Epoch:[62]HAM10000 ==> Training]\u001b[0m ...\n"
     ]
    },
    {
     "name": "stderr",
     "output_type": "stream",
     "text": [
      " 50%|█████     | 24/48 [03:43<03:23,  8.47s/it]"
     ]
    },
    {
     "name": "stdout",
     "output_type": "stream",
     "text": [
      "[24/48] Loss0.15364,ACC:0.74603\n"
     ]
    },
    {
     "name": "stderr",
     "output_type": "stream",
     "text": [
      "100%|██████████| 48/48 [07:03<00:00,  8.83s/it]\n"
     ]
    },
    {
     "name": "stdout",
     "output_type": "stream",
     "text": [
      "Train Epoch:[62] Loss:0.17411,Acc:0.74257,Best_train:0.74981\n",
      "\u001b[35mHAM10000 ==> val ...\u001b[0m\n"
     ]
    },
    {
     "name": "stderr",
     "output_type": "stream",
     "text": [
      "100%|██████████| 51/51 [00:56<00:00,  1.12s/it]\n"
     ]
    },
    {
     "name": "stdout",
     "output_type": "stream",
     "text": [
      "val_Acc:\u001b[1;32m82.195%\u001b[0m\n",
      "Best_val:\u001b[1;32m[84.04%]\u001b[0m\n",
      "\u001b[1;32m[Train Epoch:[63]HAM10000 ==> Training]\u001b[0m ...\n"
     ]
    },
    {
     "name": "stderr",
     "output_type": "stream",
     "text": [
      " 50%|█████     | 24/48 [03:44<03:23,  8.46s/it]"
     ]
    },
    {
     "name": "stdout",
     "output_type": "stream",
     "text": [
      "[24/48] Loss0.15698,ACC:0.74554\n"
     ]
    },
    {
     "name": "stderr",
     "output_type": "stream",
     "text": [
      "100%|██████████| 48/48 [07:04<00:00,  8.84s/it]\n"
     ]
    },
    {
     "name": "stdout",
     "output_type": "stream",
     "text": [
      "Train Epoch:[63] Loss:0.16865,Acc:0.74195,Best_train:0.74981\n",
      "\u001b[35mHAM10000 ==> val ...\u001b[0m\n"
     ]
    },
    {
     "name": "stderr",
     "output_type": "stream",
     "text": [
      "100%|██████████| 51/51 [00:55<00:00,  1.10s/it]\n"
     ]
    },
    {
     "name": "stdout",
     "output_type": "stream",
     "text": [
      "val_Acc:\u001b[1;32m83.392%\u001b[0m\n",
      "Best_val:\u001b[1;32m[84.04%]\u001b[0m\n",
      "\u001b[1;32m[Train Epoch:[64]HAM10000 ==> Training]\u001b[0m ...\n"
     ]
    },
    {
     "name": "stderr",
     "output_type": "stream",
     "text": [
      " 50%|█████     | 24/48 [03:42<03:22,  8.43s/it]"
     ]
    },
    {
     "name": "stdout",
     "output_type": "stream",
     "text": [
      "[24/48] Loss0.12312,ACC:0.75918\n"
     ]
    },
    {
     "name": "stderr",
     "output_type": "stream",
     "text": [
      "100%|██████████| 48/48 [07:00<00:00,  8.77s/it]\n"
     ]
    },
    {
     "name": "stdout",
     "output_type": "stream",
     "text": [
      "Train Epoch:[64] Loss:0.16658,Acc:0.75393,Best_train:0.75393\n",
      "\u001b[35mHAM10000 ==> val ...\u001b[0m\n"
     ]
    },
    {
     "name": "stderr",
     "output_type": "stream",
     "text": [
      "100%|██████████| 51/51 [00:57<00:00,  1.13s/it]\n"
     ]
    },
    {
     "name": "stdout",
     "output_type": "stream",
     "text": [
      "val_Acc:\u001b[1;32m83.042%\u001b[0m\n",
      "Best_val:\u001b[1;32m[84.04%]\u001b[0m\n",
      "\u001b[1;32m[Train Epoch:[65]HAM10000 ==> Training]\u001b[0m ...\n"
     ]
    },
    {
     "name": "stderr",
     "output_type": "stream",
     "text": [
      " 50%|█████     | 24/48 [03:42<03:20,  8.36s/it]"
     ]
    },
    {
     "name": "stdout",
     "output_type": "stream",
     "text": [
      "[24/48] Loss0.14151,ACC:0.75422\n"
     ]
    },
    {
     "name": "stderr",
     "output_type": "stream",
     "text": [
      "100%|██████████| 48/48 [07:00<00:00,  8.75s/it]\n"
     ]
    },
    {
     "name": "stdout",
     "output_type": "stream",
     "text": [
      "Train Epoch:[65] Loss:0.16613,Acc:0.75218,Best_train:0.75393\n",
      "\u001b[35mHAM10000 ==> val ...\u001b[0m\n"
     ]
    },
    {
     "name": "stderr",
     "output_type": "stream",
     "text": [
      "100%|██████████| 51/51 [00:56<00:00,  1.11s/it]\n"
     ]
    },
    {
     "name": "stdout",
     "output_type": "stream",
     "text": [
      "val_Acc:\u001b[1;32m82.893%\u001b[0m\n",
      "Best_val:\u001b[1;32m[84.04%]\u001b[0m\n",
      "\u001b[1;32m[Train Epoch:[66]HAM10000 ==> Training]\u001b[0m ...\n"
     ]
    },
    {
     "name": "stderr",
     "output_type": "stream",
     "text": [
      " 50%|█████     | 24/48 [03:43<03:23,  8.50s/it]"
     ]
    },
    {
     "name": "stdout",
     "output_type": "stream",
     "text": [
      "[24/48] Loss0.16306,ACC:0.74802\n"
     ]
    },
    {
     "name": "stderr",
     "output_type": "stream",
     "text": [
      "100%|██████████| 48/48 [07:03<00:00,  8.82s/it]\n"
     ]
    },
    {
     "name": "stdout",
     "output_type": "stream",
     "text": [
      "Train Epoch:[66] Loss:0.16577,Acc:0.75543,Best_train:0.75543\n",
      "\u001b[35mHAM10000 ==> val ...\u001b[0m\n"
     ]
    },
    {
     "name": "stderr",
     "output_type": "stream",
     "text": [
      "100%|██████████| 51/51 [00:57<00:00,  1.12s/it]\n"
     ]
    },
    {
     "name": "stdout",
     "output_type": "stream",
     "text": [
      "val_Acc:\u001b[1;32m82.643%\u001b[0m\n",
      "Best_val:\u001b[1;32m[84.04%]\u001b[0m\n",
      "\u001b[1;32m[Train Epoch:[67]HAM10000 ==> Training]\u001b[0m ...\n"
     ]
    },
    {
     "name": "stderr",
     "output_type": "stream",
     "text": [
      " 50%|█████     | 24/48 [03:45<03:25,  8.57s/it]"
     ]
    },
    {
     "name": "stdout",
     "output_type": "stream",
     "text": [
      "[24/48] Loss0.18218,ACC:0.74876\n"
     ]
    },
    {
     "name": "stderr",
     "output_type": "stream",
     "text": [
      "100%|██████████| 48/48 [07:06<00:00,  8.88s/it]\n"
     ]
    },
    {
     "name": "stdout",
     "output_type": "stream",
     "text": [
      "Train Epoch:[67] Loss:0.16952,Acc:0.74607,Best_train:0.75543\n",
      "\u001b[35mHAM10000 ==> val ...\u001b[0m\n"
     ]
    },
    {
     "name": "stderr",
     "output_type": "stream",
     "text": [
      "100%|██████████| 51/51 [00:57<00:00,  1.13s/it]\n"
     ]
    },
    {
     "name": "stdout",
     "output_type": "stream",
     "text": [
      "val_Acc:\u001b[1;32m84.19%\u001b[0m\n",
      "Best_val:\u001b[1;32m[84.19%]\u001b[0m\n",
      "\u001b[1;32m[Train Epoch:[68]HAM10000 ==> Training]\u001b[0m ...\n"
     ]
    },
    {
     "name": "stderr",
     "output_type": "stream",
     "text": [
      " 50%|█████     | 24/48 [03:42<03:23,  8.47s/it]"
     ]
    },
    {
     "name": "stdout",
     "output_type": "stream",
     "text": [
      "[24/48] Loss0.16800,ACC:0.75595\n"
     ]
    },
    {
     "name": "stderr",
     "output_type": "stream",
     "text": [
      "100%|██████████| 48/48 [07:00<00:00,  8.77s/it]\n"
     ]
    },
    {
     "name": "stdout",
     "output_type": "stream",
     "text": [
      "Train Epoch:[68] Loss:0.16978,Acc:0.74981,Best_train:0.75543\n",
      "\u001b[35mHAM10000 ==> val ...\u001b[0m\n"
     ]
    },
    {
     "name": "stderr",
     "output_type": "stream",
     "text": [
      "100%|██████████| 51/51 [00:56<00:00,  1.11s/it]\n"
     ]
    },
    {
     "name": "stdout",
     "output_type": "stream",
     "text": [
      "val_Acc:\u001b[1;32m83.99%\u001b[0m\n",
      "Best_val:\u001b[1;32m[84.19%]\u001b[0m\n",
      "\u001b[1;32m[Train Epoch:[69]HAM10000 ==> Training]\u001b[0m ...\n"
     ]
    },
    {
     "name": "stderr",
     "output_type": "stream",
     "text": [
      " 50%|█████     | 24/48 [03:44<03:24,  8.51s/it]"
     ]
    },
    {
     "name": "stdout",
     "output_type": "stream",
     "text": [
      "[24/48] Loss0.18640,ACC:0.73214\n"
     ]
    },
    {
     "name": "stderr",
     "output_type": "stream",
     "text": [
      "100%|██████████| 48/48 [07:05<00:00,  8.86s/it]\n"
     ]
    },
    {
     "name": "stdout",
     "output_type": "stream",
     "text": [
      "Train Epoch:[69] Loss:0.17480,Acc:0.73970,Best_train:0.75543\n",
      "\u001b[35mHAM10000 ==> val ...\u001b[0m\n"
     ]
    },
    {
     "name": "stderr",
     "output_type": "stream",
     "text": [
      "100%|██████████| 51/51 [00:56<00:00,  1.11s/it]\n"
     ]
    },
    {
     "name": "stdout",
     "output_type": "stream",
     "text": [
      "val_Acc:\u001b[1;32m81.247%\u001b[0m\n",
      "Best_val:\u001b[1;32m[84.19%]\u001b[0m\n",
      "\u001b[1;32m[Train Epoch:[70]HAM10000 ==> Training]\u001b[0m ...\n"
     ]
    },
    {
     "name": "stderr",
     "output_type": "stream",
     "text": [
      " 50%|█████     | 24/48 [03:44<03:23,  8.49s/it]"
     ]
    },
    {
     "name": "stdout",
     "output_type": "stream",
     "text": [
      "[24/48] Loss0.15314,ACC:0.75496\n"
     ]
    },
    {
     "name": "stderr",
     "output_type": "stream",
     "text": [
      "100%|██████████| 48/48 [07:05<00:00,  8.86s/it]\n"
     ]
    },
    {
     "name": "stdout",
     "output_type": "stream",
     "text": [
      "Train Epoch:[70] Loss:0.17429,Acc:0.74157,Best_train:0.75543\n",
      "\u001b[35mHAM10000 ==> val ...\u001b[0m\n"
     ]
    },
    {
     "name": "stderr",
     "output_type": "stream",
     "text": [
      "100%|██████████| 51/51 [00:56<00:00,  1.12s/it]\n"
     ]
    },
    {
     "name": "stdout",
     "output_type": "stream",
     "text": [
      "val_Acc:\u001b[1;32m80.249%\u001b[0m\n",
      "Best_val:\u001b[1;32m[84.19%]\u001b[0m\n",
      "\u001b[1;32m[Train Epoch:[71]HAM10000 ==> Training]\u001b[0m ...\n"
     ]
    },
    {
     "name": "stderr",
     "output_type": "stream",
     "text": [
      " 50%|█████     | 24/48 [03:44<03:24,  8.50s/it]"
     ]
    },
    {
     "name": "stdout",
     "output_type": "stream",
     "text": [
      "[24/48] Loss0.16339,ACC:0.74058\n"
     ]
    },
    {
     "name": "stderr",
     "output_type": "stream",
     "text": [
      "100%|██████████| 48/48 [07:04<00:00,  8.84s/it]\n"
     ]
    },
    {
     "name": "stdout",
     "output_type": "stream",
     "text": [
      "Train Epoch:[71] Loss:0.17085,Acc:0.74045,Best_train:0.75543\n",
      "\u001b[35mHAM10000 ==> val ...\u001b[0m\n"
     ]
    },
    {
     "name": "stderr",
     "output_type": "stream",
     "text": [
      "100%|██████████| 51/51 [00:57<00:00,  1.13s/it]\n"
     ]
    },
    {
     "name": "stdout",
     "output_type": "stream",
     "text": [
      "val_Acc:\u001b[1;32m80.698%\u001b[0m\n",
      "Best_val:\u001b[1;32m[84.19%]\u001b[0m\n",
      "\u001b[1;32m[Train Epoch:[72]HAM10000 ==> Training]\u001b[0m ...\n"
     ]
    },
    {
     "name": "stderr",
     "output_type": "stream",
     "text": [
      " 50%|█████     | 24/48 [03:42<03:22,  8.45s/it]"
     ]
    },
    {
     "name": "stdout",
     "output_type": "stream",
     "text": [
      "[24/48] Loss0.15683,ACC:0.75074\n"
     ]
    },
    {
     "name": "stderr",
     "output_type": "stream",
     "text": [
      "100%|██████████| 48/48 [07:01<00:00,  8.78s/it]\n"
     ]
    },
    {
     "name": "stdout",
     "output_type": "stream",
     "text": [
      "Train Epoch:[72] Loss:0.16954,Acc:0.74906,Best_train:0.75543\n",
      "\u001b[35mHAM10000 ==> val ...\u001b[0m\n"
     ]
    },
    {
     "name": "stderr",
     "output_type": "stream",
     "text": [
      "100%|██████████| 51/51 [00:56<00:00,  1.11s/it]\n"
     ]
    },
    {
     "name": "stdout",
     "output_type": "stream",
     "text": [
      "val_Acc:\u001b[1;32m81.646%\u001b[0m\n",
      "Best_val:\u001b[1;32m[84.19%]\u001b[0m\n",
      "\u001b[1;32m[Train Epoch:[73]HAM10000 ==> Training]\u001b[0m ...\n"
     ]
    },
    {
     "name": "stderr",
     "output_type": "stream",
     "text": [
      " 50%|█████     | 24/48 [03:45<03:23,  8.48s/it]"
     ]
    },
    {
     "name": "stdout",
     "output_type": "stream",
     "text": [
      "[24/48] Loss0.15882,ACC:0.74752\n"
     ]
    },
    {
     "name": "stderr",
     "output_type": "stream",
     "text": [
      "100%|██████████| 48/48 [07:06<00:00,  8.89s/it]\n"
     ]
    },
    {
     "name": "stdout",
     "output_type": "stream",
     "text": [
      "Train Epoch:[73] Loss:0.16843,Acc:0.74682,Best_train:0.75543\n",
      "\u001b[35mHAM10000 ==> val ...\u001b[0m\n"
     ]
    },
    {
     "name": "stderr",
     "output_type": "stream",
     "text": [
      "100%|██████████| 51/51 [00:56<00:00,  1.12s/it]\n"
     ]
    },
    {
     "name": "stdout",
     "output_type": "stream",
     "text": [
      "val_Acc:\u001b[1;32m82.943%\u001b[0m\n",
      "Best_val:\u001b[1;32m[84.19%]\u001b[0m\n",
      "\u001b[1;32m[Train Epoch:[74]HAM10000 ==> Training]\u001b[0m ...\n"
     ]
    },
    {
     "name": "stderr",
     "output_type": "stream",
     "text": [
      " 50%|█████     | 24/48 [03:43<03:23,  8.46s/it]"
     ]
    },
    {
     "name": "stdout",
     "output_type": "stream",
     "text": [
      "[24/48] Loss0.17211,ACC:0.75918\n"
     ]
    },
    {
     "name": "stderr",
     "output_type": "stream",
     "text": [
      "100%|██████████| 48/48 [07:03<00:00,  8.82s/it]\n"
     ]
    },
    {
     "name": "stdout",
     "output_type": "stream",
     "text": [
      "Train Epoch:[74] Loss:0.16437,Acc:0.75368,Best_train:0.75543\n",
      "\u001b[35mHAM10000 ==> val ...\u001b[0m\n"
     ]
    },
    {
     "name": "stderr",
     "output_type": "stream",
     "text": [
      "100%|██████████| 51/51 [00:56<00:00,  1.11s/it]\n"
     ]
    },
    {
     "name": "stdout",
     "output_type": "stream",
     "text": [
      "val_Acc:\u001b[1;32m82.793%\u001b[0m\n",
      "Best_val:\u001b[1;32m[84.19%]\u001b[0m\n",
      "\u001b[1;32m[Train Epoch:[75]HAM10000 ==> Training]\u001b[0m ...\n"
     ]
    },
    {
     "name": "stderr",
     "output_type": "stream",
     "text": [
      " 50%|█████     | 24/48 [03:43<03:24,  8.51s/it]"
     ]
    },
    {
     "name": "stdout",
     "output_type": "stream",
     "text": [
      "[24/48] Loss0.16164,ACC:0.76314\n"
     ]
    },
    {
     "name": "stderr",
     "output_type": "stream",
     "text": [
      "100%|██████████| 48/48 [07:02<00:00,  8.81s/it]\n"
     ]
    },
    {
     "name": "stdout",
     "output_type": "stream",
     "text": [
      "Train Epoch:[75] Loss:0.16358,Acc:0.75431,Best_train:0.75543\n",
      "\u001b[35mHAM10000 ==> val ...\u001b[0m\n"
     ]
    },
    {
     "name": "stderr",
     "output_type": "stream",
     "text": [
      "100%|██████████| 51/51 [00:57<00:00,  1.13s/it]\n"
     ]
    },
    {
     "name": "stdout",
     "output_type": "stream",
     "text": [
      "val_Acc:\u001b[1;32m83.392%\u001b[0m\n",
      "Best_val:\u001b[1;32m[84.19%]\u001b[0m\n",
      "\u001b[1;32m[Train Epoch:[76]HAM10000 ==> Training]\u001b[0m ...\n"
     ]
    },
    {
     "name": "stderr",
     "output_type": "stream",
     "text": [
      " 50%|█████     | 24/48 [03:44<03:23,  8.48s/it]"
     ]
    },
    {
     "name": "stdout",
     "output_type": "stream",
     "text": [
      "[24/48] Loss0.14319,ACC:0.75595\n"
     ]
    },
    {
     "name": "stderr",
     "output_type": "stream",
     "text": [
      "100%|██████████| 48/48 [07:05<00:00,  8.86s/it]\n"
     ]
    },
    {
     "name": "stdout",
     "output_type": "stream",
     "text": [
      "Train Epoch:[76] Loss:0.16313,Acc:0.75655,Best_train:0.75655\n",
      "\u001b[35mHAM10000 ==> val ...\u001b[0m\n"
     ]
    },
    {
     "name": "stderr",
     "output_type": "stream",
     "text": [
      "100%|██████████| 51/51 [00:57<00:00,  1.13s/it]\n"
     ]
    },
    {
     "name": "stdout",
     "output_type": "stream",
     "text": [
      "val_Acc:\u001b[1;32m83.392%\u001b[0m\n",
      "Best_val:\u001b[1;32m[84.19%]\u001b[0m\n",
      "\u001b[1;32m[Train Epoch:[77]HAM10000 ==> Training]\u001b[0m ...\n"
     ]
    },
    {
     "name": "stderr",
     "output_type": "stream",
     "text": [
      " 50%|█████     | 24/48 [03:43<03:23,  8.48s/it]"
     ]
    },
    {
     "name": "stdout",
     "output_type": "stream",
     "text": [
      "[24/48] Loss0.13665,ACC:0.76190\n"
     ]
    },
    {
     "name": "stderr",
     "output_type": "stream",
     "text": [
      "100%|██████████| 48/48 [07:01<00:00,  8.79s/it]\n"
     ]
    },
    {
     "name": "stdout",
     "output_type": "stream",
     "text": [
      "Train Epoch:[77] Loss:0.16677,Acc:0.75206,Best_train:0.75655\n",
      "\u001b[35mHAM10000 ==> val ...\u001b[0m\n"
     ]
    },
    {
     "name": "stderr",
     "output_type": "stream",
     "text": [
      "100%|██████████| 51/51 [00:57<00:00,  1.12s/it]\n"
     ]
    },
    {
     "name": "stdout",
     "output_type": "stream",
     "text": [
      "val_Acc:\u001b[1;32m82.893%\u001b[0m\n",
      "Best_val:\u001b[1;32m[84.19%]\u001b[0m\n",
      "\u001b[1;32m[Train Epoch:[78]HAM10000 ==> Training]\u001b[0m ...\n"
     ]
    },
    {
     "name": "stderr",
     "output_type": "stream",
     "text": [
      " 50%|█████     | 24/48 [03:43<03:24,  8.50s/it]"
     ]
    },
    {
     "name": "stdout",
     "output_type": "stream",
     "text": [
      "[24/48] Loss0.16472,ACC:0.75868\n"
     ]
    },
    {
     "name": "stderr",
     "output_type": "stream",
     "text": [
      "100%|██████████| 48/48 [07:03<00:00,  8.82s/it]\n"
     ]
    },
    {
     "name": "stdout",
     "output_type": "stream",
     "text": [
      "Train Epoch:[78] Loss:0.16873,Acc:0.74994,Best_train:0.75655\n",
      "\u001b[35mHAM10000 ==> val ...\u001b[0m\n"
     ]
    },
    {
     "name": "stderr",
     "output_type": "stream",
     "text": [
      "100%|██████████| 51/51 [00:57<00:00,  1.13s/it]\n"
     ]
    },
    {
     "name": "stdout",
     "output_type": "stream",
     "text": [
      "val_Acc:\u001b[1;32m81.297%\u001b[0m\n",
      "Best_val:\u001b[1;32m[84.19%]\u001b[0m\n",
      "\u001b[1;32m[Train Epoch:[79]HAM10000 ==> Training]\u001b[0m ...\n"
     ]
    },
    {
     "name": "stderr",
     "output_type": "stream",
     "text": [
      " 50%|█████     | 24/48 [03:43<03:23,  8.46s/it]"
     ]
    },
    {
     "name": "stdout",
     "output_type": "stream",
     "text": [
      "[24/48] Loss0.18956,ACC:0.74653\n"
     ]
    },
    {
     "name": "stderr",
     "output_type": "stream",
     "text": [
      "100%|██████████| 48/48 [07:02<00:00,  8.80s/it]\n"
     ]
    },
    {
     "name": "stdout",
     "output_type": "stream",
     "text": [
      "Train Epoch:[79] Loss:0.17013,Acc:0.75094,Best_train:0.75655\n",
      "\u001b[35mHAM10000 ==> val ...\u001b[0m\n"
     ]
    },
    {
     "name": "stderr",
     "output_type": "stream",
     "text": [
      "100%|██████████| 51/51 [00:57<00:00,  1.12s/it]\n"
     ]
    },
    {
     "name": "stdout",
     "output_type": "stream",
     "text": [
      "val_Acc:\u001b[1;32m82.244%\u001b[0m\n",
      "Best_val:\u001b[1;32m[84.19%]\u001b[0m\n",
      "\u001b[1;32m[Train Epoch:[80]HAM10000 ==> Training]\u001b[0m ...\n"
     ]
    },
    {
     "name": "stderr",
     "output_type": "stream",
     "text": [
      " 50%|█████     | 24/48 [03:43<03:24,  8.54s/it]"
     ]
    },
    {
     "name": "stdout",
     "output_type": "stream",
     "text": [
      "[24/48] Loss0.16170,ACC:0.74454\n"
     ]
    },
    {
     "name": "stderr",
     "output_type": "stream",
     "text": [
      "100%|██████████| 48/48 [07:02<00:00,  8.81s/it]\n"
     ]
    },
    {
     "name": "stdout",
     "output_type": "stream",
     "text": [
      "Train Epoch:[80] Loss:0.17294,Acc:0.73983,Best_train:0.75655\n",
      "\u001b[35mHAM10000 ==> val ...\u001b[0m\n"
     ]
    },
    {
     "name": "stderr",
     "output_type": "stream",
     "text": [
      "100%|██████████| 51/51 [00:56<00:00,  1.11s/it]\n"
     ]
    },
    {
     "name": "stdout",
     "output_type": "stream",
     "text": [
      "val_Acc:\u001b[1;32m82.095%\u001b[0m\n",
      "Best_val:\u001b[1;32m[84.19%]\u001b[0m\n",
      "\u001b[1;32m[Train Epoch:[81]HAM10000 ==> Training]\u001b[0m ...\n"
     ]
    },
    {
     "name": "stderr",
     "output_type": "stream",
     "text": [
      " 50%|█████     | 24/48 [03:43<03:23,  8.49s/it]"
     ]
    },
    {
     "name": "stdout",
     "output_type": "stream",
     "text": [
      "[24/48] Loss0.17016,ACC:0.75074\n"
     ]
    },
    {
     "name": "stderr",
     "output_type": "stream",
     "text": [
      "100%|██████████| 48/48 [07:02<00:00,  8.81s/it]\n"
     ]
    },
    {
     "name": "stdout",
     "output_type": "stream",
     "text": [
      "Train Epoch:[81] Loss:0.17254,Acc:0.74270,Best_train:0.75655\n",
      "\u001b[35mHAM10000 ==> val ...\u001b[0m\n"
     ]
    },
    {
     "name": "stderr",
     "output_type": "stream",
     "text": [
      "100%|██████████| 51/51 [00:57<00:00,  1.13s/it]\n"
     ]
    },
    {
     "name": "stdout",
     "output_type": "stream",
     "text": [
      "val_Acc:\u001b[1;32m82.394%\u001b[0m\n",
      "Best_val:\u001b[1;32m[84.19%]\u001b[0m\n",
      "\u001b[1;32m[Train Epoch:[82]HAM10000 ==> Training]\u001b[0m ...\n"
     ]
    },
    {
     "name": "stderr",
     "output_type": "stream",
     "text": [
      " 50%|█████     | 24/48 [03:44<03:24,  8.53s/it]"
     ]
    },
    {
     "name": "stdout",
     "output_type": "stream",
     "text": [
      "[24/48] Loss0.17176,ACC:0.75347\n"
     ]
    },
    {
     "name": "stderr",
     "output_type": "stream",
     "text": [
      "100%|██████████| 48/48 [07:05<00:00,  8.86s/it]\n"
     ]
    },
    {
     "name": "stdout",
     "output_type": "stream",
     "text": [
      "Train Epoch:[82] Loss:0.16731,Acc:0.75169,Best_train:0.75655\n",
      "\u001b[35mHAM10000 ==> val ...\u001b[0m\n"
     ]
    },
    {
     "name": "stderr",
     "output_type": "stream",
     "text": [
      "100%|██████████| 51/51 [00:57<00:00,  1.13s/it]\n"
     ]
    },
    {
     "name": "stdout",
     "output_type": "stream",
     "text": [
      "val_Acc:\u001b[1;32m82.394%\u001b[0m\n",
      "Best_val:\u001b[1;32m[84.19%]\u001b[0m\n",
      "\u001b[1;32m[Train Epoch:[83]HAM10000 ==> Training]\u001b[0m ...\n"
     ]
    },
    {
     "name": "stderr",
     "output_type": "stream",
     "text": [
      " 50%|█████     | 24/48 [03:44<03:25,  8.55s/it]"
     ]
    },
    {
     "name": "stdout",
     "output_type": "stream",
     "text": [
      "[24/48] Loss0.14636,ACC:0.74975\n"
     ]
    },
    {
     "name": "stderr",
     "output_type": "stream",
     "text": [
      "100%|██████████| 48/48 [07:05<00:00,  8.87s/it]\n"
     ]
    },
    {
     "name": "stdout",
     "output_type": "stream",
     "text": [
      "Train Epoch:[83] Loss:0.16666,Acc:0.74819,Best_train:0.75655\n",
      "\u001b[35mHAM10000 ==> val ...\u001b[0m\n"
     ]
    },
    {
     "name": "stderr",
     "output_type": "stream",
     "text": [
      "100%|██████████| 51/51 [00:56<00:00,  1.11s/it]\n"
     ]
    },
    {
     "name": "stdout",
     "output_type": "stream",
     "text": [
      "val_Acc:\u001b[1;32m81.596%\u001b[0m\n",
      "Best_val:\u001b[1;32m[84.19%]\u001b[0m\n",
      "\u001b[1;32m[Train Epoch:[84]HAM10000 ==> Training]\u001b[0m ...\n"
     ]
    },
    {
     "name": "stderr",
     "output_type": "stream",
     "text": [
      " 50%|█████     | 24/48 [03:43<03:22,  8.42s/it]"
     ]
    },
    {
     "name": "stdout",
     "output_type": "stream",
     "text": [
      "[24/48] Loss0.16875,ACC:0.75744\n"
     ]
    },
    {
     "name": "stderr",
     "output_type": "stream",
     "text": [
      "100%|██████████| 48/48 [07:02<00:00,  8.80s/it]\n"
     ]
    },
    {
     "name": "stdout",
     "output_type": "stream",
     "text": [
      "Train Epoch:[84] Loss:0.16325,Acc:0.75793,Best_train:0.75793\n",
      "\u001b[35mHAM10000 ==> val ...\u001b[0m\n"
     ]
    },
    {
     "name": "stderr",
     "output_type": "stream",
     "text": [
      "100%|██████████| 51/51 [00:57<00:00,  1.13s/it]\n"
     ]
    },
    {
     "name": "stdout",
     "output_type": "stream",
     "text": [
      "val_Acc:\u001b[1;32m82.943%\u001b[0m\n",
      "Best_val:\u001b[1;32m[84.19%]\u001b[0m\n",
      "\u001b[1;32m[Train Epoch:[85]HAM10000 ==> Training]\u001b[0m ...\n"
     ]
    },
    {
     "name": "stderr",
     "output_type": "stream",
     "text": [
      " 50%|█████     | 24/48 [03:43<03:22,  8.44s/it]"
     ]
    },
    {
     "name": "stdout",
     "output_type": "stream",
     "text": [
      "[24/48] Loss0.16087,ACC:0.76488\n"
     ]
    },
    {
     "name": "stderr",
     "output_type": "stream",
     "text": [
      "100%|██████████| 48/48 [07:02<00:00,  8.80s/it]\n"
     ]
    },
    {
     "name": "stdout",
     "output_type": "stream",
     "text": [
      "Train Epoch:[85] Loss:0.16116,Acc:0.75805,Best_train:0.75805\n",
      "\u001b[35mHAM10000 ==> val ...\u001b[0m\n"
     ]
    },
    {
     "name": "stderr",
     "output_type": "stream",
     "text": [
      "100%|██████████| 51/51 [00:56<00:00,  1.12s/it]\n"
     ]
    },
    {
     "name": "stdout",
     "output_type": "stream",
     "text": [
      "val_Acc:\u001b[1;32m82.843%\u001b[0m\n",
      "Best_val:\u001b[1;32m[84.19%]\u001b[0m\n",
      "\u001b[1;32m[Train Epoch:[86]HAM10000 ==> Training]\u001b[0m ...\n"
     ]
    },
    {
     "name": "stderr",
     "output_type": "stream",
     "text": [
      " 50%|█████     | 24/48 [03:45<03:23,  8.49s/it]"
     ]
    },
    {
     "name": "stdout",
     "output_type": "stream",
     "text": [
      "[24/48] Loss0.17649,ACC:0.75521\n"
     ]
    },
    {
     "name": "stderr",
     "output_type": "stream",
     "text": [
      "100%|██████████| 48/48 [07:05<00:00,  8.87s/it]\n"
     ]
    },
    {
     "name": "stdout",
     "output_type": "stream",
     "text": [
      "Train Epoch:[86] Loss:0.16157,Acc:0.75605,Best_train:0.75805\n",
      "\u001b[35mHAM10000 ==> val ...\u001b[0m\n"
     ]
    },
    {
     "name": "stderr",
     "output_type": "stream",
     "text": [
      "100%|██████████| 51/51 [00:56<00:00,  1.11s/it]\n"
     ]
    },
    {
     "name": "stdout",
     "output_type": "stream",
     "text": [
      "val_Acc:\u001b[1;32m82.893%\u001b[0m\n",
      "Best_val:\u001b[1;32m[84.19%]\u001b[0m\n",
      "\u001b[1;32m[Train Epoch:[87]HAM10000 ==> Training]\u001b[0m ...\n"
     ]
    },
    {
     "name": "stderr",
     "output_type": "stream",
     "text": [
      " 50%|█████     | 24/48 [03:43<03:23,  8.49s/it]"
     ]
    },
    {
     "name": "stdout",
     "output_type": "stream",
     "text": [
      "[24/48] Loss0.17125,ACC:0.75818\n"
     ]
    },
    {
     "name": "stderr",
     "output_type": "stream",
     "text": [
      "100%|██████████| 48/48 [07:02<00:00,  8.81s/it]\n"
     ]
    },
    {
     "name": "stdout",
     "output_type": "stream",
     "text": [
      "Train Epoch:[87] Loss:0.16331,Acc:0.75668,Best_train:0.75805\n",
      "\u001b[35mHAM10000 ==> val ...\u001b[0m\n"
     ]
    },
    {
     "name": "stderr",
     "output_type": "stream",
     "text": [
      "100%|██████████| 51/51 [00:56<00:00,  1.11s/it]\n"
     ]
    },
    {
     "name": "stdout",
     "output_type": "stream",
     "text": [
      "val_Acc:\u001b[1;32m83.99%\u001b[0m\n",
      "Best_val:\u001b[1;32m[84.19%]\u001b[0m\n",
      "\u001b[1;32m[Train Epoch:[88]HAM10000 ==> Training]\u001b[0m ...\n"
     ]
    },
    {
     "name": "stderr",
     "output_type": "stream",
     "text": [
      " 50%|█████     | 24/48 [03:44<03:25,  8.54s/it]"
     ]
    },
    {
     "name": "stdout",
     "output_type": "stream",
     "text": [
      "[24/48] Loss0.15464,ACC:0.75174\n"
     ]
    },
    {
     "name": "stderr",
     "output_type": "stream",
     "text": [
      "100%|██████████| 48/48 [07:04<00:00,  8.85s/it]\n"
     ]
    },
    {
     "name": "stdout",
     "output_type": "stream",
     "text": [
      "Train Epoch:[88] Loss:0.16636,Acc:0.74707,Best_train:0.75805\n",
      "\u001b[35mHAM10000 ==> val ...\u001b[0m\n"
     ]
    },
    {
     "name": "stderr",
     "output_type": "stream",
     "text": [
      "100%|██████████| 51/51 [00:56<00:00,  1.12s/it]\n"
     ]
    },
    {
     "name": "stdout",
     "output_type": "stream",
     "text": [
      "val_Acc:\u001b[1;32m80.948%\u001b[0m\n",
      "Best_val:\u001b[1;32m[84.19%]\u001b[0m\n",
      "\u001b[1;32m[Train Epoch:[89]HAM10000 ==> Training]\u001b[0m ...\n"
     ]
    },
    {
     "name": "stderr",
     "output_type": "stream",
     "text": [
      " 50%|█████     | 24/48 [03:44<03:24,  8.50s/it]"
     ]
    },
    {
     "name": "stdout",
     "output_type": "stream",
     "text": [
      "[24/48] Loss0.15842,ACC:0.75000\n"
     ]
    },
    {
     "name": "stderr",
     "output_type": "stream",
     "text": [
      "100%|██████████| 48/48 [07:05<00:00,  8.86s/it]\n"
     ]
    },
    {
     "name": "stdout",
     "output_type": "stream",
     "text": [
      "Train Epoch:[89] Loss:0.16734,Acc:0.75243,Best_train:0.75805\n",
      "\u001b[35mHAM10000 ==> val ...\u001b[0m\n"
     ]
    },
    {
     "name": "stderr",
     "output_type": "stream",
     "text": [
      "100%|██████████| 51/51 [00:56<00:00,  1.12s/it]\n"
     ]
    },
    {
     "name": "stdout",
     "output_type": "stream",
     "text": [
      "val_Acc:\u001b[1;32m82.743%\u001b[0m\n",
      "Best_val:\u001b[1;32m[84.19%]\u001b[0m\n",
      "\u001b[1;32m[Train Epoch:[90]HAM10000 ==> Training]\u001b[0m ...\n"
     ]
    },
    {
     "name": "stderr",
     "output_type": "stream",
     "text": [
      " 50%|█████     | 24/48 [03:44<03:25,  8.54s/it]"
     ]
    },
    {
     "name": "stdout",
     "output_type": "stream",
     "text": [
      "[24/48] Loss0.14008,ACC:0.75223\n"
     ]
    },
    {
     "name": "stderr",
     "output_type": "stream",
     "text": [
      "100%|██████████| 48/48 [07:05<00:00,  8.86s/it]\n"
     ]
    },
    {
     "name": "stdout",
     "output_type": "stream",
     "text": [
      "Train Epoch:[90] Loss:0.16874,Acc:0.75006,Best_train:0.75805\n",
      "\u001b[35mHAM10000 ==> val ...\u001b[0m\n"
     ]
    },
    {
     "name": "stderr",
     "output_type": "stream",
     "text": [
      "100%|██████████| 51/51 [00:56<00:00,  1.12s/it]\n"
     ]
    },
    {
     "name": "stdout",
     "output_type": "stream",
     "text": [
      "val_Acc:\u001b[1;32m83.641%\u001b[0m\n",
      "Best_val:\u001b[1;32m[84.19%]\u001b[0m\n",
      "\u001b[1;32m[Train Epoch:[91]HAM10000 ==> Training]\u001b[0m ...\n"
     ]
    },
    {
     "name": "stderr",
     "output_type": "stream",
     "text": [
      " 50%|█████     | 24/48 [03:43<03:23,  8.50s/it]"
     ]
    },
    {
     "name": "stdout",
     "output_type": "stream",
     "text": [
      "[24/48] Loss0.12701,ACC:0.75099\n"
     ]
    },
    {
     "name": "stderr",
     "output_type": "stream",
     "text": [
      "100%|██████████| 48/48 [07:04<00:00,  8.84s/it]\n"
     ]
    },
    {
     "name": "stdout",
     "output_type": "stream",
     "text": [
      "Train Epoch:[91] Loss:0.16644,Acc:0.75206,Best_train:0.75805\n",
      "\u001b[35mHAM10000 ==> val ...\u001b[0m\n"
     ]
    },
    {
     "name": "stderr",
     "output_type": "stream",
     "text": [
      "100%|██████████| 51/51 [00:57<00:00,  1.12s/it]\n"
     ]
    },
    {
     "name": "stdout",
     "output_type": "stream",
     "text": [
      "val_Acc:\u001b[1;32m83.99%\u001b[0m\n",
      "Best_val:\u001b[1;32m[84.19%]\u001b[0m\n",
      "\u001b[1;32m[Train Epoch:[92]HAM10000 ==> Training]\u001b[0m ...\n"
     ]
    },
    {
     "name": "stderr",
     "output_type": "stream",
     "text": [
      " 50%|█████     | 24/48 [03:44<03:22,  8.46s/it]"
     ]
    },
    {
     "name": "stdout",
     "output_type": "stream",
     "text": [
      "[24/48] Loss0.17401,ACC:0.75248\n"
     ]
    },
    {
     "name": "stderr",
     "output_type": "stream",
     "text": [
      "100%|██████████| 48/48 [07:04<00:00,  8.84s/it]\n"
     ]
    },
    {
     "name": "stdout",
     "output_type": "stream",
     "text": [
      "Train Epoch:[92] Loss:0.16600,Acc:0.75518,Best_train:0.75805\n",
      "\u001b[35mHAM10000 ==> val ...\u001b[0m\n"
     ]
    },
    {
     "name": "stderr",
     "output_type": "stream",
     "text": [
      "100%|██████████| 51/51 [00:56<00:00,  1.11s/it]\n"
     ]
    },
    {
     "name": "stdout",
     "output_type": "stream",
     "text": [
      "val_Acc:\u001b[1;32m82.943%\u001b[0m\n",
      "Best_val:\u001b[1;32m[84.19%]\u001b[0m\n",
      "\u001b[1;32m[Train Epoch:[93]HAM10000 ==> Training]\u001b[0m ...\n"
     ]
    },
    {
     "name": "stderr",
     "output_type": "stream",
     "text": [
      " 50%|█████     | 24/48 [03:43<03:24,  8.51s/it]"
     ]
    },
    {
     "name": "stdout",
     "output_type": "stream",
     "text": [
      "[24/48] Loss0.15555,ACC:0.76389\n"
     ]
    },
    {
     "name": "stderr",
     "output_type": "stream",
     "text": [
      "100%|██████████| 48/48 [07:02<00:00,  8.81s/it]\n"
     ]
    },
    {
     "name": "stdout",
     "output_type": "stream",
     "text": [
      "Train Epoch:[93] Loss:0.16233,Acc:0.76155,Best_train:0.76155\n",
      "\u001b[35mHAM10000 ==> val ...\u001b[0m\n"
     ]
    },
    {
     "name": "stderr",
     "output_type": "stream",
     "text": [
      "100%|██████████| 51/51 [01:01<00:00,  1.20s/it]\n"
     ]
    },
    {
     "name": "stdout",
     "output_type": "stream",
     "text": [
      "val_Acc:\u001b[1;32m83.89%\u001b[0m\n",
      "Best_val:\u001b[1;32m[84.19%]\u001b[0m\n",
      "\u001b[1;32m[Train Epoch:[94]HAM10000 ==> Training]\u001b[0m ...\n"
     ]
    },
    {
     "name": "stderr",
     "output_type": "stream",
     "text": [
      " 50%|█████     | 24/48 [04:01<03:40,  9.18s/it]"
     ]
    },
    {
     "name": "stdout",
     "output_type": "stream",
     "text": [
      "[24/48] Loss0.16683,ACC:0.75372\n"
     ]
    },
    {
     "name": "stderr",
     "output_type": "stream",
     "text": [
      "100%|██████████| 48/48 [07:38<00:00,  9.54s/it]\n"
     ]
    },
    {
     "name": "stdout",
     "output_type": "stream",
     "text": [
      "Train Epoch:[94] Loss:0.15860,Acc:0.76467,Best_train:0.76467\n",
      "\u001b[35mHAM10000 ==> val ...\u001b[0m\n"
     ]
    },
    {
     "name": "stderr",
     "output_type": "stream",
     "text": [
      "100%|██████████| 51/51 [00:59<00:00,  1.17s/it]\n"
     ]
    },
    {
     "name": "stdout",
     "output_type": "stream",
     "text": [
      "val_Acc:\u001b[1;32m83.94%\u001b[0m\n",
      "Best_val:\u001b[1;32m[84.19%]\u001b[0m\n",
      "\u001b[1;32m[Train Epoch:[95]HAM10000 ==> Training]\u001b[0m ...\n"
     ]
    },
    {
     "name": "stderr",
     "output_type": "stream",
     "text": [
      " 50%|█████     | 24/48 [03:52<03:26,  8.59s/it]"
     ]
    },
    {
     "name": "stdout",
     "output_type": "stream",
     "text": [
      "[24/48] Loss0.15256,ACC:0.75471\n"
     ]
    },
    {
     "name": "stderr",
     "output_type": "stream",
     "text": [
      "100%|██████████| 48/48 [07:15<00:00,  9.06s/it]\n"
     ]
    },
    {
     "name": "stdout",
     "output_type": "stream",
     "text": [
      "Train Epoch:[95] Loss:0.15758,Acc:0.76255,Best_train:0.76467\n",
      "\u001b[35mHAM10000 ==> val ...\u001b[0m\n"
     ]
    },
    {
     "name": "stderr",
     "output_type": "stream",
     "text": [
      "100%|██████████| 51/51 [00:57<00:00,  1.13s/it]\n"
     ]
    },
    {
     "name": "stdout",
     "output_type": "stream",
     "text": [
      "val_Acc:\u001b[1;32m83.99%\u001b[0m\n",
      "Best_val:\u001b[1;32m[84.19%]\u001b[0m\n",
      "\u001b[1;32m[Train Epoch:[96]HAM10000 ==> Training]\u001b[0m ...\n"
     ]
    },
    {
     "name": "stderr",
     "output_type": "stream",
     "text": [
      " 50%|█████     | 24/48 [03:44<03:23,  8.48s/it]"
     ]
    },
    {
     "name": "stdout",
     "output_type": "stream",
     "text": [
      "[24/48] Loss0.13859,ACC:0.77034\n"
     ]
    },
    {
     "name": "stderr",
     "output_type": "stream",
     "text": [
      "100%|██████████| 48/48 [07:05<00:00,  8.87s/it]\n"
     ]
    },
    {
     "name": "stdout",
     "output_type": "stream",
     "text": [
      "Train Epoch:[96] Loss:0.15909,Acc:0.76255,Best_train:0.76467\n",
      "\u001b[35mHAM10000 ==> val ...\u001b[0m\n"
     ]
    },
    {
     "name": "stderr",
     "output_type": "stream",
     "text": [
      "100%|██████████| 51/51 [00:57<00:00,  1.12s/it]\n"
     ]
    },
    {
     "name": "stdout",
     "output_type": "stream",
     "text": [
      "val_Acc:\u001b[1;32m83.791%\u001b[0m\n",
      "Best_val:\u001b[1;32m[84.19%]\u001b[0m\n",
      "\u001b[1;32m[Train Epoch:[97]HAM10000 ==> Training]\u001b[0m ...\n"
     ]
    },
    {
     "name": "stderr",
     "output_type": "stream",
     "text": [
      " 50%|█████     | 24/48 [03:45<03:26,  8.58s/it]"
     ]
    },
    {
     "name": "stdout",
     "output_type": "stream",
     "text": [
      "[24/48] Loss0.11481,ACC:0.76513\n"
     ]
    },
    {
     "name": "stderr",
     "output_type": "stream",
     "text": [
      "100%|██████████| 48/48 [07:06<00:00,  8.88s/it]\n"
     ]
    },
    {
     "name": "stdout",
     "output_type": "stream",
     "text": [
      "Train Epoch:[97] Loss:0.16174,Acc:0.75930,Best_train:0.76467\n",
      "\u001b[35mHAM10000 ==> val ...\u001b[0m\n"
     ]
    },
    {
     "name": "stderr",
     "output_type": "stream",
     "text": [
      "100%|██████████| 51/51 [00:57<00:00,  1.14s/it]\n"
     ]
    },
    {
     "name": "stdout",
     "output_type": "stream",
     "text": [
      "val_Acc:\u001b[1;32m82.843%\u001b[0m\n",
      "Best_val:\u001b[1;32m[84.19%]\u001b[0m\n",
      "\u001b[1;32m[Train Epoch:[98]HAM10000 ==> Training]\u001b[0m ...\n"
     ]
    },
    {
     "name": "stderr",
     "output_type": "stream",
     "text": [
      " 50%|█████     | 24/48 [03:45<03:25,  8.56s/it]"
     ]
    },
    {
     "name": "stdout",
     "output_type": "stream",
     "text": [
      "[24/48] Loss0.18918,ACC:0.75273\n"
     ]
    },
    {
     "name": "stderr",
     "output_type": "stream",
     "text": [
      "100%|██████████| 48/48 [07:07<00:00,  8.91s/it]\n"
     ]
    },
    {
     "name": "stdout",
     "output_type": "stream",
     "text": [
      "Train Epoch:[98] Loss:0.16438,Acc:0.75481,Best_train:0.76467\n",
      "\u001b[35mHAM10000 ==> val ...\u001b[0m\n"
     ]
    },
    {
     "name": "stderr",
     "output_type": "stream",
     "text": [
      "100%|██████████| 51/51 [00:58<00:00,  1.14s/it]\n"
     ]
    },
    {
     "name": "stdout",
     "output_type": "stream",
     "text": [
      "val_Acc:\u001b[1;32m83.192%\u001b[0m\n",
      "Best_val:\u001b[1;32m[84.19%]\u001b[0m\n",
      "\u001b[1;32m[Train Epoch:[99]HAM10000 ==> Training]\u001b[0m ...\n"
     ]
    },
    {
     "name": "stderr",
     "output_type": "stream",
     "text": [
      " 50%|█████     | 24/48 [03:47<03:24,  8.50s/it]"
     ]
    },
    {
     "name": "stdout",
     "output_type": "stream",
     "text": [
      "[24/48] Loss0.19126,ACC:0.74380\n"
     ]
    },
    {
     "name": "stderr",
     "output_type": "stream",
     "text": [
      "100%|██████████| 48/48 [06:55<00:00,  8.66s/it]\n"
     ]
    },
    {
     "name": "stdout",
     "output_type": "stream",
     "text": [
      "Train Epoch:[99] Loss:0.16754,Acc:0.75144,Best_train:0.76467\n",
      "\u001b[35mHAM10000 ==> val ...\u001b[0m\n"
     ]
    },
    {
     "name": "stderr",
     "output_type": "stream",
     "text": [
      "100%|██████████| 51/51 [00:54<00:00,  1.07s/it]\n"
     ]
    },
    {
     "name": "stdout",
     "output_type": "stream",
     "text": [
      "val_Acc:\u001b[1;32m81.895%\u001b[0m\n",
      "Best_val:\u001b[1;32m[84.19%]\u001b[0m\n",
      "\u001b[1;32m[Train Epoch:[100]HAM10000 ==> Training]\u001b[0m ...\n"
     ]
    },
    {
     "name": "stderr",
     "output_type": "stream",
     "text": [
      " 50%|█████     | 24/48 [03:29<03:09,  7.88s/it]"
     ]
    },
    {
     "name": "stdout",
     "output_type": "stream",
     "text": [
      "[24/48] Loss0.16081,ACC:0.75422\n"
     ]
    },
    {
     "name": "stderr",
     "output_type": "stream",
     "text": [
      "100%|██████████| 48/48 [06:40<00:00,  8.35s/it]\n"
     ]
    },
    {
     "name": "stdout",
     "output_type": "stream",
     "text": [
      "Train Epoch:[100] Loss:0.16779,Acc:0.74869,Best_train:0.76467\n",
      "\u001b[35mHAM10000 ==> val ...\u001b[0m\n"
     ]
    },
    {
     "name": "stderr",
     "output_type": "stream",
     "text": [
      "100%|██████████| 51/51 [01:01<00:00,  1.20s/it]\n"
     ]
    },
    {
     "name": "stdout",
     "output_type": "stream",
     "text": [
      "val_Acc:\u001b[1;32m83.84%\u001b[0m\n",
      "Best_val:\u001b[1;32m[84.19%]\u001b[0m\n",
      "\u001b[1;32m[Train Epoch:[101]HAM10000 ==> Training]\u001b[0m ...\n"
     ]
    },
    {
     "name": "stderr",
     "output_type": "stream",
     "text": [
      " 50%|█████     | 24/48 [04:05<03:43,  9.31s/it]"
     ]
    },
    {
     "name": "stdout",
     "output_type": "stream",
     "text": [
      "[24/48] Loss0.16082,ACC:0.75000\n"
     ]
    },
    {
     "name": "stderr",
     "output_type": "stream",
     "text": [
      "100%|██████████| 48/48 [07:44<00:00,  9.67s/it]\n"
     ]
    },
    {
     "name": "stdout",
     "output_type": "stream",
     "text": [
      "Train Epoch:[101] Loss:0.16659,Acc:0.75094,Best_train:0.76467\n",
      "\u001b[35mHAM10000 ==> val ...\u001b[0m\n"
     ]
    },
    {
     "name": "stderr",
     "output_type": "stream",
     "text": [
      "100%|██████████| 51/51 [00:59<00:00,  1.17s/it]\n"
     ]
    },
    {
     "name": "stdout",
     "output_type": "stream",
     "text": [
      "val_Acc:\u001b[1;32m82.494%\u001b[0m\n",
      "Best_val:\u001b[1;32m[84.19%]\u001b[0m\n",
      "\u001b[1;32m[Train Epoch:[102]HAM10000 ==> Training]\u001b[0m ...\n"
     ]
    },
    {
     "name": "stderr",
     "output_type": "stream",
     "text": [
      " 50%|█████     | 24/48 [03:51<03:29,  8.72s/it]"
     ]
    },
    {
     "name": "stdout",
     "output_type": "stream",
     "text": [
      "[24/48] Loss0.16869,ACC:0.75397\n"
     ]
    },
    {
     "name": "stderr",
     "output_type": "stream",
     "text": [
      "100%|██████████| 48/48 [07:15<00:00,  9.07s/it]\n"
     ]
    },
    {
     "name": "stdout",
     "output_type": "stream",
     "text": [
      "Train Epoch:[102] Loss:0.16299,Acc:0.75818,Best_train:0.76467\n",
      "\u001b[35mHAM10000 ==> val ...\u001b[0m\n"
     ]
    },
    {
     "name": "stderr",
     "output_type": "stream",
     "text": [
      "100%|██████████| 51/51 [00:57<00:00,  1.13s/it]\n"
     ]
    },
    {
     "name": "stdout",
     "output_type": "stream",
     "text": [
      "val_Acc:\u001b[1;32m83.591%\u001b[0m\n",
      "Best_val:\u001b[1;32m[84.19%]\u001b[0m\n",
      "\u001b[1;32m[Train Epoch:[103]HAM10000 ==> Training]\u001b[0m ...\n"
     ]
    },
    {
     "name": "stderr",
     "output_type": "stream",
     "text": [
      " 50%|█████     | 24/48 [03:45<03:25,  8.58s/it]"
     ]
    },
    {
     "name": "stdout",
     "output_type": "stream",
     "text": [
      "[24/48] Loss0.16405,ACC:0.76835\n"
     ]
    },
    {
     "name": "stderr",
     "output_type": "stream",
     "text": [
      "100%|██████████| 48/48 [07:36<00:00,  9.52s/it]\n"
     ]
    },
    {
     "name": "stdout",
     "output_type": "stream",
     "text": [
      "Train Epoch:[103] Loss:0.16027,Acc:0.76067,Best_train:0.76467\n",
      "\u001b[35mHAM10000 ==> val ...\u001b[0m\n"
     ]
    },
    {
     "name": "stderr",
     "output_type": "stream",
     "text": [
      "100%|██████████| 51/51 [01:03<00:00,  1.24s/it]\n"
     ]
    },
    {
     "name": "stdout",
     "output_type": "stream",
     "text": [
      "val_Acc:\u001b[1;32m85.586%\u001b[0m\n",
      "Best_val:\u001b[1;32m[85.586%]\u001b[0m\n",
      "\u001b[1;32m[Train Epoch:[104]HAM10000 ==> Training]\u001b[0m ...\n"
     ]
    },
    {
     "name": "stderr",
     "output_type": "stream",
     "text": [
      " 50%|█████     | 24/48 [04:06<03:44,  9.36s/it]"
     ]
    },
    {
     "name": "stdout",
     "output_type": "stream",
     "text": [
      "[24/48] Loss0.16338,ACC:0.76166\n"
     ]
    },
    {
     "name": "stderr",
     "output_type": "stream",
     "text": [
      "100%|██████████| 48/48 [07:43<00:00,  9.66s/it]\n"
     ]
    },
    {
     "name": "stdout",
     "output_type": "stream",
     "text": [
      "Train Epoch:[104] Loss:0.15868,Acc:0.76517,Best_train:0.76517\n",
      "\u001b[35mHAM10000 ==> val ...\u001b[0m\n"
     ]
    },
    {
     "name": "stderr",
     "output_type": "stream",
     "text": [
      "100%|██████████| 51/51 [00:58<00:00,  1.15s/it]\n"
     ]
    },
    {
     "name": "stdout",
     "output_type": "stream",
     "text": [
      "val_Acc:\u001b[1;32m83.691%\u001b[0m\n",
      "Best_val:\u001b[1;32m[85.586%]\u001b[0m\n",
      "\u001b[1;32m[Train Epoch:[105]HAM10000 ==> Training]\u001b[0m ...\n"
     ]
    },
    {
     "name": "stderr",
     "output_type": "stream",
     "text": [
      " 50%|█████     | 24/48 [03:47<03:28,  8.69s/it]"
     ]
    },
    {
     "name": "stdout",
     "output_type": "stream",
     "text": [
      "[24/48] Loss0.16686,ACC:0.76116\n"
     ]
    },
    {
     "name": "stderr",
     "output_type": "stream",
     "text": [
      "100%|██████████| 48/48 [07:11<00:00,  8.99s/it]\n"
     ]
    },
    {
     "name": "stdout",
     "output_type": "stream",
     "text": [
      "Train Epoch:[105] Loss:0.15629,Acc:0.76529,Best_train:0.76529\n",
      "\u001b[35mHAM10000 ==> val ...\u001b[0m\n"
     ]
    },
    {
     "name": "stderr",
     "output_type": "stream",
     "text": [
      "100%|██████████| 51/51 [00:57<00:00,  1.13s/it]\n"
     ]
    },
    {
     "name": "stdout",
     "output_type": "stream",
     "text": [
      "val_Acc:\u001b[1;32m83.491%\u001b[0m\n",
      "Best_val:\u001b[1;32m[85.586%]\u001b[0m\n",
      "\u001b[1;32m[Train Epoch:[106]HAM10000 ==> Training]\u001b[0m ...\n"
     ]
    },
    {
     "name": "stderr",
     "output_type": "stream",
     "text": [
      " 50%|█████     | 24/48 [03:31<03:13,  8.05s/it]"
     ]
    },
    {
     "name": "stdout",
     "output_type": "stream",
     "text": [
      "[24/48] Loss0.13849,ACC:0.76513\n"
     ]
    },
    {
     "name": "stderr",
     "output_type": "stream",
     "text": [
      "100%|██████████| 48/48 [06:55<00:00,  8.66s/it]\n"
     ]
    },
    {
     "name": "stdout",
     "output_type": "stream",
     "text": [
      "Train Epoch:[106] Loss:0.15748,Acc:0.76767,Best_train:0.76767\n",
      "\u001b[35mHAM10000 ==> val ...\u001b[0m\n"
     ]
    },
    {
     "name": "stderr",
     "output_type": "stream",
     "text": [
      "100%|██████████| 51/51 [00:59<00:00,  1.16s/it]\n"
     ]
    },
    {
     "name": "stdout",
     "output_type": "stream",
     "text": [
      "val_Acc:\u001b[1;32m84.289%\u001b[0m\n",
      "Best_val:\u001b[1;32m[85.586%]\u001b[0m\n",
      "\u001b[1;32m[Train Epoch:[107]HAM10000 ==> Training]\u001b[0m ...\n"
     ]
    },
    {
     "name": "stderr",
     "output_type": "stream",
     "text": [
      " 50%|█████     | 24/48 [03:43<03:13,  8.07s/it]"
     ]
    },
    {
     "name": "stdout",
     "output_type": "stream",
     "text": [
      "[24/48] Loss0.16676,ACC:0.76488\n"
     ]
    },
    {
     "name": "stderr",
     "output_type": "stream",
     "text": [
      "100%|██████████| 48/48 [06:47<00:00,  8.49s/it]\n"
     ]
    },
    {
     "name": "stdout",
     "output_type": "stream",
     "text": [
      "Train Epoch:[107] Loss:0.16091,Acc:0.76142,Best_train:0.76767\n",
      "\u001b[35mHAM10000 ==> val ...\u001b[0m\n"
     ]
    },
    {
     "name": "stderr",
     "output_type": "stream",
     "text": [
      "100%|██████████| 51/51 [00:55<00:00,  1.08s/it]\n"
     ]
    },
    {
     "name": "stdout",
     "output_type": "stream",
     "text": [
      "val_Acc:\u001b[1;32m84.738%\u001b[0m\n",
      "Best_val:\u001b[1;32m[85.586%]\u001b[0m\n",
      "\u001b[1;32m[Train Epoch:[108]HAM10000 ==> Training]\u001b[0m ...\n"
     ]
    },
    {
     "name": "stderr",
     "output_type": "stream",
     "text": [
      " 50%|█████     | 24/48 [03:28<03:09,  7.89s/it]"
     ]
    },
    {
     "name": "stdout",
     "output_type": "stream",
     "text": [
      "[24/48] Loss0.17464,ACC:0.75967\n"
     ]
    },
    {
     "name": "stderr",
     "output_type": "stream",
     "text": [
      "100%|██████████| 48/48 [06:53<00:00,  8.62s/it]\n"
     ]
    },
    {
     "name": "stdout",
     "output_type": "stream",
     "text": [
      "Train Epoch:[108] Loss:0.16086,Acc:0.76142,Best_train:0.76767\n",
      "\u001b[35mHAM10000 ==> val ...\u001b[0m\n"
     ]
    },
    {
     "name": "stderr",
     "output_type": "stream",
     "text": [
      "100%|██████████| 51/51 [01:00<00:00,  1.19s/it]\n"
     ]
    },
    {
     "name": "stdout",
     "output_type": "stream",
     "text": [
      "val_Acc:\u001b[1;32m82.993%\u001b[0m\n",
      "Best_val:\u001b[1;32m[85.586%]\u001b[0m\n",
      "\u001b[1;32m[Train Epoch:[109]HAM10000 ==> Training]\u001b[0m ...\n"
     ]
    },
    {
     "name": "stderr",
     "output_type": "stream",
     "text": [
      " 50%|█████     | 24/48 [03:29<03:09,  7.88s/it]"
     ]
    },
    {
     "name": "stdout",
     "output_type": "stream",
     "text": [
      "[24/48] Loss0.15511,ACC:0.74975\n"
     ]
    },
    {
     "name": "stderr",
     "output_type": "stream",
     "text": [
      "100%|██████████| 48/48 [06:34<00:00,  8.21s/it]\n"
     ]
    },
    {
     "name": "stdout",
     "output_type": "stream",
     "text": [
      "Train Epoch:[109] Loss:0.16408,Acc:0.75119,Best_train:0.76767\n",
      "\u001b[35mHAM10000 ==> val ...\u001b[0m\n"
     ]
    },
    {
     "name": "stderr",
     "output_type": "stream",
     "text": [
      "100%|██████████| 51/51 [00:56<00:00,  1.11s/it]\n"
     ]
    },
    {
     "name": "stdout",
     "output_type": "stream",
     "text": [
      "val_Acc:\u001b[1;32m82.145%\u001b[0m\n",
      "Best_val:\u001b[1;32m[85.586%]\u001b[0m\n",
      "\u001b[1;32m[Train Epoch:[110]HAM10000 ==> Training]\u001b[0m ...\n"
     ]
    },
    {
     "name": "stderr",
     "output_type": "stream",
     "text": [
      " 50%|█████     | 24/48 [03:34<03:10,  7.94s/it]"
     ]
    },
    {
     "name": "stdout",
     "output_type": "stream",
     "text": [
      "[24/48] Loss0.18451,ACC:0.75918\n"
     ]
    },
    {
     "name": "stderr",
     "output_type": "stream",
     "text": [
      "100%|██████████| 48/48 [06:38<00:00,  8.31s/it]\n"
     ]
    },
    {
     "name": "stdout",
     "output_type": "stream",
     "text": [
      "Train Epoch:[110] Loss:0.16453,Acc:0.75655,Best_train:0.76767\n",
      "\u001b[35mHAM10000 ==> val ...\u001b[0m\n"
     ]
    },
    {
     "name": "stderr",
     "output_type": "stream",
     "text": [
      "100%|██████████| 51/51 [00:56<00:00,  1.11s/it]\n"
     ]
    },
    {
     "name": "stdout",
     "output_type": "stream",
     "text": [
      "val_Acc:\u001b[1;32m82.793%\u001b[0m\n",
      "Best_val:\u001b[1;32m[85.586%]\u001b[0m\n",
      "\u001b[1;32m[Train Epoch:[111]HAM10000 ==> Training]\u001b[0m ...\n"
     ]
    },
    {
     "name": "stderr",
     "output_type": "stream",
     "text": [
      " 50%|█████     | 24/48 [03:37<03:12,  8.04s/it]"
     ]
    },
    {
     "name": "stdout",
     "output_type": "stream",
     "text": [
      "[24/48] Loss0.14670,ACC:0.75273\n"
     ]
    },
    {
     "name": "stderr",
     "output_type": "stream",
     "text": [
      "100%|██████████| 48/48 [06:59<00:00,  8.74s/it]\n"
     ]
    },
    {
     "name": "stdout",
     "output_type": "stream",
     "text": [
      "Train Epoch:[111] Loss:0.16543,Acc:0.75605,Best_train:0.76767\n",
      "\u001b[35mHAM10000 ==> val ...\u001b[0m\n"
     ]
    },
    {
     "name": "stderr",
     "output_type": "stream",
     "text": [
      "100%|██████████| 51/51 [00:58<00:00,  1.14s/it]\n"
     ]
    },
    {
     "name": "stdout",
     "output_type": "stream",
     "text": [
      "val_Acc:\u001b[1;32m82.244%\u001b[0m\n",
      "Best_val:\u001b[1;32m[85.586%]\u001b[0m\n",
      "\u001b[1;32m[Train Epoch:[112]HAM10000 ==> Training]\u001b[0m ...\n"
     ]
    },
    {
     "name": "stderr",
     "output_type": "stream",
     "text": [
      " 50%|█████     | 24/48 [03:52<03:31,  8.81s/it]"
     ]
    },
    {
     "name": "stdout",
     "output_type": "stream",
     "text": [
      "[24/48] Loss0.14443,ACC:0.75942\n"
     ]
    },
    {
     "name": "stderr",
     "output_type": "stream",
     "text": [
      "100%|██████████| 48/48 [07:20<00:00,  9.17s/it]\n"
     ]
    },
    {
     "name": "stdout",
     "output_type": "stream",
     "text": [
      "Train Epoch:[112] Loss:0.16171,Acc:0.76342,Best_train:0.76767\n",
      "\u001b[35mHAM10000 ==> val ...\u001b[0m\n"
     ]
    },
    {
     "name": "stderr",
     "output_type": "stream",
     "text": [
      "100%|██████████| 51/51 [00:57<00:00,  1.12s/it]\n"
     ]
    },
    {
     "name": "stdout",
     "output_type": "stream",
     "text": [
      "val_Acc:\u001b[1;32m82.544%\u001b[0m\n",
      "Best_val:\u001b[1;32m[85.586%]\u001b[0m\n",
      "\u001b[1;32m[Train Epoch:[113]HAM10000 ==> Training]\u001b[0m ...\n"
     ]
    },
    {
     "name": "stderr",
     "output_type": "stream",
     "text": [
      " 50%|█████     | 24/48 [03:44<03:24,  8.50s/it]"
     ]
    },
    {
     "name": "stdout",
     "output_type": "stream",
     "text": [
      "[24/48] Loss0.17150,ACC:0.76935\n"
     ]
    },
    {
     "name": "stderr",
     "output_type": "stream",
     "text": [
      "100%|██████████| 48/48 [07:08<00:00,  8.92s/it]\n"
     ]
    },
    {
     "name": "stdout",
     "output_type": "stream",
     "text": [
      "Train Epoch:[113] Loss:0.15872,Acc:0.76629,Best_train:0.76767\n",
      "\u001b[35mHAM10000 ==> val ...\u001b[0m\n"
     ]
    },
    {
     "name": "stderr",
     "output_type": "stream",
     "text": [
      "100%|██████████| 51/51 [00:53<00:00,  1.06s/it]\n"
     ]
    },
    {
     "name": "stdout",
     "output_type": "stream",
     "text": [
      "val_Acc:\u001b[1;32m82.993%\u001b[0m\n",
      "Best_val:\u001b[1;32m[85.586%]\u001b[0m\n",
      "\u001b[1;32m[Train Epoch:[114]HAM10000 ==> Training]\u001b[0m ...\n"
     ]
    },
    {
     "name": "stderr",
     "output_type": "stream",
     "text": [
      " 50%|█████     | 24/48 [03:50<03:44,  9.37s/it]"
     ]
    },
    {
     "name": "stdout",
     "output_type": "stream",
     "text": [
      "[24/48] Loss0.19146,ACC:0.76612\n"
     ]
    },
    {
     "name": "stderr",
     "output_type": "stream",
     "text": [
      "100%|██████████| 48/48 [07:31<00:00,  9.41s/it]\n"
     ]
    },
    {
     "name": "stdout",
     "output_type": "stream",
     "text": [
      "Train Epoch:[114] Loss:0.15725,Acc:0.76442,Best_train:0.76767\n",
      "\u001b[35mHAM10000 ==> val ...\u001b[0m\n"
     ]
    },
    {
     "name": "stderr",
     "output_type": "stream",
     "text": [
      "100%|██████████| 51/51 [01:02<00:00,  1.22s/it]\n"
     ]
    },
    {
     "name": "stdout",
     "output_type": "stream",
     "text": [
      "val_Acc:\u001b[1;32m83.491%\u001b[0m\n",
      "Best_val:\u001b[1;32m[85.586%]\u001b[0m\n",
      "\u001b[1;32m[Train Epoch:[115]HAM10000 ==> Training]\u001b[0m ...\n"
     ]
    },
    {
     "name": "stderr",
     "output_type": "stream",
     "text": [
      " 50%|█████     | 24/48 [03:55<03:16,  8.17s/it]"
     ]
    },
    {
     "name": "stdout",
     "output_type": "stream",
     "text": [
      "[24/48] Loss0.15524,ACC:0.76687\n"
     ]
    },
    {
     "name": "stderr",
     "output_type": "stream",
     "text": [
      "100%|██████████| 48/48 [07:11<00:00,  9.00s/it]\n"
     ]
    },
    {
     "name": "stdout",
     "output_type": "stream",
     "text": [
      "Train Epoch:[115] Loss:0.15624,Acc:0.76529,Best_train:0.76767\n",
      "\u001b[35mHAM10000 ==> val ...\u001b[0m\n"
     ]
    },
    {
     "name": "stderr",
     "output_type": "stream",
     "text": [
      "100%|██████████| 51/51 [00:56<00:00,  1.12s/it]\n"
     ]
    },
    {
     "name": "stdout",
     "output_type": "stream",
     "text": [
      "val_Acc:\u001b[1;32m83.042%\u001b[0m\n",
      "Best_val:\u001b[1;32m[85.586%]\u001b[0m\n",
      "\u001b[1;32m[Train Epoch:[116]HAM10000 ==> Training]\u001b[0m ...\n"
     ]
    },
    {
     "name": "stderr",
     "output_type": "stream",
     "text": [
      " 50%|█████     | 24/48 [03:34<03:13,  8.08s/it]"
     ]
    },
    {
     "name": "stdout",
     "output_type": "stream",
     "text": [
      "[24/48] Loss0.16151,ACC:0.77331\n"
     ]
    },
    {
     "name": "stderr",
     "output_type": "stream",
     "text": [
      "100%|██████████| 48/48 [07:03<00:00,  8.83s/it]\n"
     ]
    },
    {
     "name": "stdout",
     "output_type": "stream",
     "text": [
      "Train Epoch:[116] Loss:0.15581,Acc:0.76754,Best_train:0.76767\n",
      "\u001b[35mHAM10000 ==> val ...\u001b[0m\n"
     ]
    },
    {
     "name": "stderr",
     "output_type": "stream",
     "text": [
      "100%|██████████| 51/51 [00:57<00:00,  1.14s/it]\n"
     ]
    },
    {
     "name": "stdout",
     "output_type": "stream",
     "text": [
      "val_Acc:\u001b[1;32m83.89%\u001b[0m\n",
      "Best_val:\u001b[1;32m[85.586%]\u001b[0m\n",
      "\u001b[1;32m[Train Epoch:[117]HAM10000 ==> Training]\u001b[0m ...\n"
     ]
    },
    {
     "name": "stderr",
     "output_type": "stream",
     "text": [
      " 50%|█████     | 24/48 [04:02<03:30,  8.77s/it]"
     ]
    },
    {
     "name": "stdout",
     "output_type": "stream",
     "text": [
      "[24/48] Loss0.16447,ACC:0.76860\n"
     ]
    },
    {
     "name": "stderr",
     "output_type": "stream",
     "text": [
      "100%|██████████| 48/48 [07:33<00:00,  9.45s/it]\n"
     ]
    },
    {
     "name": "stdout",
     "output_type": "stream",
     "text": [
      "Train Epoch:[117] Loss:0.15704,Acc:0.76517,Best_train:0.76767\n",
      "\u001b[35mHAM10000 ==> val ...\u001b[0m\n"
     ]
    },
    {
     "name": "stderr",
     "output_type": "stream",
     "text": [
      "100%|██████████| 51/51 [01:00<00:00,  1.18s/it]\n"
     ]
    },
    {
     "name": "stdout",
     "output_type": "stream",
     "text": [
      "val_Acc:\u001b[1;32m82.045%\u001b[0m\n",
      "Best_val:\u001b[1;32m[85.586%]\u001b[0m\n",
      "\u001b[1;32m[Train Epoch:[118]HAM10000 ==> Training]\u001b[0m ...\n"
     ]
    },
    {
     "name": "stderr",
     "output_type": "stream",
     "text": [
      " 50%|█████     | 24/48 [03:51<03:49,  9.57s/it]"
     ]
    },
    {
     "name": "stdout",
     "output_type": "stream",
     "text": [
      "[24/48] Loss0.15290,ACC:0.76364\n"
     ]
    },
    {
     "name": "stderr",
     "output_type": "stream",
     "text": [
      "100%|██████████| 48/48 [07:31<00:00,  9.41s/it]\n"
     ]
    },
    {
     "name": "stdout",
     "output_type": "stream",
     "text": [
      "Train Epoch:[118] Loss:0.16063,Acc:0.76230,Best_train:0.76767\n",
      "\u001b[35mHAM10000 ==> val ...\u001b[0m\n"
     ]
    },
    {
     "name": "stderr",
     "output_type": "stream",
     "text": [
      "100%|██████████| 51/51 [00:58<00:00,  1.16s/it]\n"
     ]
    },
    {
     "name": "stdout",
     "output_type": "stream",
     "text": [
      "val_Acc:\u001b[1;32m83.042%\u001b[0m\n",
      "Best_val:\u001b[1;32m[85.586%]\u001b[0m\n",
      "\u001b[1;32m[Train Epoch:[119]HAM10000 ==> Training]\u001b[0m ...\n"
     ]
    },
    {
     "name": "stderr",
     "output_type": "stream",
     "text": [
      " 50%|█████     | 24/48 [03:47<03:18,  8.25s/it]"
     ]
    },
    {
     "name": "stdout",
     "output_type": "stream",
     "text": [
      "[24/48] Loss0.15725,ACC:0.75744\n"
     ]
    },
    {
     "name": "stderr",
     "output_type": "stream",
     "text": [
      "100%|██████████| 48/48 [07:15<00:00,  9.08s/it]\n"
     ]
    },
    {
     "name": "stdout",
     "output_type": "stream",
     "text": [
      "Train Epoch:[119] Loss:0.16452,Acc:0.75743,Best_train:0.76767\n",
      "\u001b[35mHAM10000 ==> val ...\u001b[0m\n"
     ]
    },
    {
     "name": "stderr",
     "output_type": "stream",
     "text": [
      "100%|██████████| 51/51 [01:03<00:00,  1.24s/it]\n"
     ]
    },
    {
     "name": "stdout",
     "output_type": "stream",
     "text": [
      "val_Acc:\u001b[1;32m83.392%\u001b[0m\n",
      "Best_val:\u001b[1;32m[85.586%]\u001b[0m\n",
      "\u001b[1;32m[Train Epoch:[120]HAM10000 ==> Training]\u001b[0m ...\n"
     ]
    },
    {
     "name": "stderr",
     "output_type": "stream",
     "text": [
      " 12%|█▎        | 6/48 [01:30<10:36, 15.15s/it]\n"
     ]
    },
    {
     "ename": "KeyboardInterrupt",
     "evalue": "",
     "output_type": "error",
     "traceback": [
      "\u001b[1;31m---------------------------------------------------------------------------\u001b[0m",
      "\u001b[1;31mKeyboardInterrupt\u001b[0m                         Traceback (most recent call last)",
      "Cell \u001b[1;32mIn[21], line 3\u001b[0m\n\u001b[0;32m      1\u001b[0m num_epochs \u001b[38;5;241m=\u001b[39m \u001b[38;5;241m120\u001b[39m\n\u001b[0;32m      2\u001b[0m \u001b[38;5;28;01mfor\u001b[39;00m epoch \u001b[38;5;129;01min\u001b[39;00m \u001b[38;5;28mrange\u001b[39m(\u001b[38;5;241m1\u001b[39m, num_epochs \u001b[38;5;241m+\u001b[39m \u001b[38;5;241m1\u001b[39m): \u001b[38;5;66;03m#4h 26m 46s\u001b[39;00m\n\u001b[1;32m----> 3\u001b[0m     \u001b[43mtrain\u001b[49m\u001b[43m(\u001b[49m\u001b[43mepoch\u001b[49m\u001b[43m)\u001b[49m\n\u001b[0;32m      4\u001b[0m     test(\u001b[38;5;124m'\u001b[39m\u001b[38;5;124mval\u001b[39m\u001b[38;5;124m'\u001b[39m)\n\u001b[0;32m      6\u001b[0m \u001b[38;5;28mprint\u001b[39m(\u001b[38;5;124m'\u001b[39m\u001b[38;5;124mFinished Training\u001b[39m\u001b[38;5;124m'\u001b[39m)\n",
      "Cell \u001b[1;32mIn[16], line 21\u001b[0m, in \u001b[0;36mtrain\u001b[1;34m(epoch)\u001b[0m\n\u001b[0;32m     19\u001b[0m output \u001b[38;5;241m=\u001b[39m network(data)\n\u001b[0;32m     20\u001b[0m loss \u001b[38;5;241m=\u001b[39m network\u001b[38;5;241m.\u001b[39mloss(output, target, size_average\u001b[38;5;241m=\u001b[39m\u001b[38;5;28;01mTrue\u001b[39;00m)       \n\u001b[1;32m---> 21\u001b[0m \u001b[43mloss\u001b[49m\u001b[38;5;241;43m.\u001b[39;49m\u001b[43mbackward\u001b[49m\u001b[43m(\u001b[49m\u001b[43m)\u001b[49m     \n\u001b[0;32m     22\u001b[0m optimizer\u001b[38;5;241m.\u001b[39mstep()\n\u001b[0;32m     23\u001b[0m optimizer\u001b[38;5;241m.\u001b[39mzero_grad()\n",
      "File \u001b[1;32mc:\\Users\\ToanGTV\\anaconda3\\envs\\py310\\lib\\site-packages\\torch\\_tensor.py:521\u001b[0m, in \u001b[0;36mTensor.backward\u001b[1;34m(self, gradient, retain_graph, create_graph, inputs)\u001b[0m\n\u001b[0;32m    511\u001b[0m \u001b[38;5;28;01mif\u001b[39;00m has_torch_function_unary(\u001b[38;5;28mself\u001b[39m):\n\u001b[0;32m    512\u001b[0m     \u001b[38;5;28;01mreturn\u001b[39;00m handle_torch_function(\n\u001b[0;32m    513\u001b[0m         Tensor\u001b[38;5;241m.\u001b[39mbackward,\n\u001b[0;32m    514\u001b[0m         (\u001b[38;5;28mself\u001b[39m,),\n\u001b[1;32m   (...)\u001b[0m\n\u001b[0;32m    519\u001b[0m         inputs\u001b[38;5;241m=\u001b[39minputs,\n\u001b[0;32m    520\u001b[0m     )\n\u001b[1;32m--> 521\u001b[0m \u001b[43mtorch\u001b[49m\u001b[38;5;241;43m.\u001b[39;49m\u001b[43mautograd\u001b[49m\u001b[38;5;241;43m.\u001b[39;49m\u001b[43mbackward\u001b[49m\u001b[43m(\u001b[49m\n\u001b[0;32m    522\u001b[0m \u001b[43m    \u001b[49m\u001b[38;5;28;43mself\u001b[39;49m\u001b[43m,\u001b[49m\u001b[43m \u001b[49m\u001b[43mgradient\u001b[49m\u001b[43m,\u001b[49m\u001b[43m \u001b[49m\u001b[43mretain_graph\u001b[49m\u001b[43m,\u001b[49m\u001b[43m \u001b[49m\u001b[43mcreate_graph\u001b[49m\u001b[43m,\u001b[49m\u001b[43m \u001b[49m\u001b[43minputs\u001b[49m\u001b[38;5;241;43m=\u001b[39;49m\u001b[43minputs\u001b[49m\n\u001b[0;32m    523\u001b[0m \u001b[43m\u001b[49m\u001b[43m)\u001b[49m\n",
      "File \u001b[1;32mc:\\Users\\ToanGTV\\anaconda3\\envs\\py310\\lib\\site-packages\\torch\\autograd\\__init__.py:289\u001b[0m, in \u001b[0;36mbackward\u001b[1;34m(tensors, grad_tensors, retain_graph, create_graph, grad_variables, inputs)\u001b[0m\n\u001b[0;32m    284\u001b[0m     retain_graph \u001b[38;5;241m=\u001b[39m create_graph\n\u001b[0;32m    286\u001b[0m \u001b[38;5;66;03m# The reason we repeat the same comment below is that\u001b[39;00m\n\u001b[0;32m    287\u001b[0m \u001b[38;5;66;03m# some Python versions print out the first line of a multi-line function\u001b[39;00m\n\u001b[0;32m    288\u001b[0m \u001b[38;5;66;03m# calls in the traceback and some print out the last line\u001b[39;00m\n\u001b[1;32m--> 289\u001b[0m \u001b[43m_engine_run_backward\u001b[49m\u001b[43m(\u001b[49m\n\u001b[0;32m    290\u001b[0m \u001b[43m    \u001b[49m\u001b[43mtensors\u001b[49m\u001b[43m,\u001b[49m\n\u001b[0;32m    291\u001b[0m \u001b[43m    \u001b[49m\u001b[43mgrad_tensors_\u001b[49m\u001b[43m,\u001b[49m\n\u001b[0;32m    292\u001b[0m \u001b[43m    \u001b[49m\u001b[43mretain_graph\u001b[49m\u001b[43m,\u001b[49m\n\u001b[0;32m    293\u001b[0m \u001b[43m    \u001b[49m\u001b[43mcreate_graph\u001b[49m\u001b[43m,\u001b[49m\n\u001b[0;32m    294\u001b[0m \u001b[43m    \u001b[49m\u001b[43minputs\u001b[49m\u001b[43m,\u001b[49m\n\u001b[0;32m    295\u001b[0m \u001b[43m    \u001b[49m\u001b[43mallow_unreachable\u001b[49m\u001b[38;5;241;43m=\u001b[39;49m\u001b[38;5;28;43;01mTrue\u001b[39;49;00m\u001b[43m,\u001b[49m\n\u001b[0;32m    296\u001b[0m \u001b[43m    \u001b[49m\u001b[43maccumulate_grad\u001b[49m\u001b[38;5;241;43m=\u001b[39;49m\u001b[38;5;28;43;01mTrue\u001b[39;49;00m\u001b[43m,\u001b[49m\n\u001b[0;32m    297\u001b[0m \u001b[43m\u001b[49m\u001b[43m)\u001b[49m\n",
      "File \u001b[1;32mc:\\Users\\ToanGTV\\anaconda3\\envs\\py310\\lib\\site-packages\\torch\\autograd\\graph.py:769\u001b[0m, in \u001b[0;36m_engine_run_backward\u001b[1;34m(t_outputs, *args, **kwargs)\u001b[0m\n\u001b[0;32m    767\u001b[0m     unregister_hooks \u001b[38;5;241m=\u001b[39m _register_logging_hooks_on_whole_graph(t_outputs)\n\u001b[0;32m    768\u001b[0m \u001b[38;5;28;01mtry\u001b[39;00m:\n\u001b[1;32m--> 769\u001b[0m     \u001b[38;5;28;01mreturn\u001b[39;00m Variable\u001b[38;5;241m.\u001b[39m_execution_engine\u001b[38;5;241m.\u001b[39mrun_backward(  \u001b[38;5;66;03m# Calls into the C++ engine to run the backward pass\u001b[39;00m\n\u001b[0;32m    770\u001b[0m         t_outputs, \u001b[38;5;241m*\u001b[39margs, \u001b[38;5;241m*\u001b[39m\u001b[38;5;241m*\u001b[39mkwargs\n\u001b[0;32m    771\u001b[0m     )  \u001b[38;5;66;03m# Calls into the C++ engine to run the backward pass\u001b[39;00m\n\u001b[0;32m    772\u001b[0m \u001b[38;5;28;01mfinally\u001b[39;00m:\n\u001b[0;32m    773\u001b[0m     \u001b[38;5;28;01mif\u001b[39;00m attach_logging_hooks:\n",
      "\u001b[1;31mKeyboardInterrupt\u001b[0m: "
     ]
    }
   ],
   "source": [
    "num_epochs = 120\n",
    "for epoch in range(1, num_epochs + 1): #4h 26m 46s\n",
    "    train(epoch)\n",
    "    test('val')\n",
    "\n",
    "print('Finished Training')"
   ]
  }
 ],
 "metadata": {
  "kernelspec": {
   "display_name": "Python 3",
   "language": "python",
   "name": "python3"
  },
  "language_info": {
   "codemirror_mode": {
    "name": "ipython",
    "version": 3
   },
   "file_extension": ".py",
   "mimetype": "text/x-python",
   "name": "python",
   "nbconvert_exporter": "python",
   "pygments_lexer": "ipython3",
   "version": "3.10.14"
  }
 },
 "nbformat": 4,
 "nbformat_minor": 2
}
