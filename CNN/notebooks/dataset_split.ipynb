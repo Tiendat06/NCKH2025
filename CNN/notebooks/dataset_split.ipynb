{
 "cells": [
  {
   "cell_type": "markdown",
   "metadata": {},
   "source": [
    "# Script to split data"
   ]
  },
  {
   "cell_type": "code",
   "execution_count": 16,
   "metadata": {},
   "outputs": [],
   "source": [
    "import os\n",
    "import shutil\n",
    "import pandas as pd\n",
    "import splitfolders\n"
   ]
  },
  {
   "cell_type": "code",
   "execution_count": 17,
   "metadata": {},
   "outputs": [],
   "source": [
    "path = os.getcwd()\n",
    "metadata_file = os.path.join(path, \"Datasets/HAM10000_images/HAM10000_metadata\")\n",
    "image_dir = os.path.join(path, \"Datasets/HAM10000_images\")\n",
    "output_dir = os.path.join(path, \"Datasets/HAM10000_images/Labeled_images\")\n",
    "\n",
    "\n",
    "df = pd.read_csv(metadata_file)\n",
    "\n",
    "os.makedirs(output_dir, exist_ok=True)\n",
    "\n",
    "for label in df['dx'].unique():\n",
    "    os.makedirs(os.path.join(output_dir, label), exist_ok=True)\n",
    "\n",
    "for index, row in df.iterrows():\n",
    "    image_name = row['image_id'] + \".jpg\"\n",
    "    label = row['dx']\n",
    "    \n",
    "    src_path = os.path.join(image_dir, image_name)\n",
    "    dst_path = os.path.join(output_dir, label, image_name)\n",
    "    \n",
    "    if os.path.exists(src_path):\n",
    "        shutil.move(src_path, dst_path)\n",
    "    else:\n",
    "        print(f\"Image {image_name} not found!\")\n",
    "\n",
    "input_folder = os.path.join(path,\"Datasets/HAM10000_images/Labeled_images\")\n",
    "output_folder = os.path.join(path, \"Datasets/HAM10000_images\")\n",
    "\n",
    "# 70% train, 15% val, 15% test\n",
    "splitfolders.ratio(input_folder, output=output_folder, seed=1337, ratio=(.8, .2))\n",
    "shutil.rmtree(output_dir)"
   ]
  },
  {
   "cell_type": "code",
   "execution_count": 19,
   "metadata": {},
   "outputs": [
    {
     "name": "stdout",
     "output_type": "stream",
     "text": [
      "Image ISIC_0035068.jpg not found!\n"
     ]
    }
   ],
   "source": [
    "# Paths\n",
    "path = os.getcwd()\n",
    "test_metadata_file = os.path.join(path, \"Datasets/HAM10000_images/ISIC2018_Task3_Test_GroundTruth.csv\") \n",
    "test_image_dir = os.path.join(path, \"Datasets/HAM10000_images/ISIC2018_Task3_Test_Images\") \n",
    "test_output_dir = os.path.join(path, \"Datasets/HAM10000_images/test\") \n",
    "\n",
    "df_test = pd.read_csv(test_metadata_file)\n",
    "\n",
    "\n",
    "os.makedirs(test_output_dir, exist_ok=True)\n",
    "for label in df_test['dx'].unique():\n",
    "    os.makedirs(os.path.join(test_output_dir, label), exist_ok=True)\n",
    "\n",
    "for index, row in df_test.iterrows():\n",
    "    image_name = row['image_id'] + \".jpg\"\n",
    "    label = row['dx']\n",
    "    \n",
    "    src_path = os.path.join(test_image_dir, image_name)\n",
    "    dst_path = os.path.join(test_output_dir, label, image_name)\n",
    "    \n",
    "    if os.path.exists(src_path):\n",
    "        shutil.move(src_path, dst_path)\n",
    "    else:\n",
    "        print(f\"Image {image_name} not found!\")"
   ]
  }
 ],
 "metadata": {
  "kernelspec": {
   "display_name": "Python 3",
   "language": "python",
   "name": "python3"
  },
  "language_info": {
   "codemirror_mode": {
    "name": "ipython",
    "version": 3
   },
   "file_extension": ".py",
   "mimetype": "text/x-python",
   "name": "python",
   "nbconvert_exporter": "python",
   "pygments_lexer": "ipython3",
   "version": "3.12.5"
  }
 },
 "nbformat": 4,
 "nbformat_minor": 2
}
